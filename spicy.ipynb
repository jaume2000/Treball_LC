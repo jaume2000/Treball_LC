{
 "cells": [
  {
   "cell_type": "code",
   "execution_count": null,
   "metadata": {},
   "outputs": [],
   "source": [
    "\n",
    "alicia_text = \"\"\"     A través de la tarde color de oro\n",
    "     el agua nos lleva sin esfuerzo por nuestra parte,\n",
    "     pues los que empujan los remos\n",
    "     son unos brazos infantiles\n",
    "     que intentan, con sus manitas\n",
    "     guiar el curso de nuestra barca.\n",
    "\n",
    "     Pero, ¡las tres son muy crueles!\n",
    "     ya que sin fijarse en el apacible tiempo\n",
    "     ni en el ensueño de la hora presente,\n",
    "     ¡exigen una historia de una voz que apenas tiene aliento,\n",
    "     tanto que ni a una pluma podría soplar!\n",
    "     Mas, ¿qué podría una voz tan débil\n",
    "     contra la voluntad de las tres?\n",
    "\n",
    "     La primera, imperiosamente, dicta su decreto:\n",
    "     \"¡Comience el cuento!\"\n",
    "     La segunda, un poco más amable, pide\n",
    "     que el cuento no sea tonto,\n",
    "     mientras que la tercera interrumpe la historia\n",
    "     nada más que una vez por minuto.\n",
    "\n",
    "     Conseguido al fin el silencio,\n",
    "     con la imaginación las lleva,\n",
    "     siguiendo a esa niña soñada,\n",
    "     por un mundo nuevo, de hermosas maravillas\n",
    "     en el que hasta los pájaros y las bestias hablan\n",
    "     con voz humana, y ellas casi se creen estar allí.\n",
    "\n",
    "     Y cada vez que el narrador intentaba,\n",
    "     seca ya la fuente de su inspiración\n",
    "     dejar la narración para el día siguiente,\n",
    "     y decía: \"El resto para la próxima vez\",\n",
    "     las tres, al tiempo, decían: \"¡Ya es la próxima vez!\"\n",
    "\n",
    "     Y así fue surgiendo el \"País de las Maravillas\",\n",
    "     poquito a poco, y una a una,\n",
    "     el mosaico de sus extrañas aventuras.\n",
    "     Y ahora, que el relato toca a su fin,\n",
    "     también el timón de la barca nos vuelve al hogar,\n",
    "     ¡una alegre tripulación, bajo el sol que ya se oculta!\n",
    "\n",
    "     Alicia, para ti este cuento infantil.\n",
    "     Ponlo con tu mano pequeña y amable\n",
    "     donde descansan los cuentos infantiles,\n",
    "     entrelazados, como las flores ya marchitas\n",
    "     en la guirnalda de la memoria.\n",
    "     Es la ofrenda de un peregrino\n",
    "     que las recogió en países lejanos.\"\"\"\n",
    "\n",
    "alicia_text = ' '.join([line.strip() for line in alicia_text.split('\\n') if line.strip() != ''])"
   ]
  },
  {
   "cell_type": "code",
   "execution_count": null,
   "metadata": {},
   "outputs": [],
   "source": [
    "# pip install -U spacy\n",
    "# python -m spacy download en_core_web_sm\n",
    "import spacy\n",
    "\n",
    "nlp = spacy.load(\"es_core_news_sm\")\n",
    "\n",
    "doc = nlp(alicia_text)\n",
    "\n",
    "with open('Alicia_utf8_tagged_spacy.txt', 'w') as f:\n",
    "    for token in doc:\n",
    "        f.write(token.text + ' ' + token.tag_+'\\n')\n"
   ]
  },
  {
   "cell_type": "markdown",
   "metadata": {},
   "source": [
    "### 5.2"
   ]
  },
  {
   "cell_type": "code",
   "execution_count": null,
   "metadata": {},
   "outputs": [],
   "source": [
    "import stanza\n",
    "\n",
    "#stanza.download('es')\n",
    "nlp = stanza.Pipeline('es', processors='tokenize,pos')\n",
    "\n",
    "# Texto de ejemplo para etiquetar\n",
    "texto = \"Stanza es una biblioteca de procesamiento de lenguaje natural.\"\n",
    "\n",
    "# Procesamiento del texto\n",
    "doc = nlp(alicia_text)\n",
    "\n",
    "# Mostrar las etiquetas POS para cada palabra\n",
    "with open('Alicia_utf8_tagged_stanza.txt', 'w') as f:\n",
    "    for sentence in doc.sentences:\n",
    "        for word in sentence.words:\n",
    "            f.write(f\"{word.text} {word.pos}\")\n",
    "\n"
   ]
  },
  {
   "cell_type": "code",
   "execution_count": null,
   "metadata": {},
   "outputs": [],
   "source": [
    "print(doc)"
   ]
  },
  {
   "cell_type": "markdown",
   "metadata": {},
   "source": [
    "## Tarea 6"
   ]
  },
  {
   "cell_type": "code",
   "execution_count": null,
   "metadata": {},
   "outputs": [],
   "source": [
    "import spacy\n",
    "from spacy.tokens import Doc\n",
    "from spacy.training import Example\n",
    "import nltk\n",
    "from nltk.corpus import cess_esp\n",
    "\n",
    "cess_words = list(cess_esp.tagged_words())\n",
    "train_data = []\n",
    "for wordpack in cess_words:\n",
    "    words, tags = zip(wordpack)\n",
    "    doc = Doc(nlp.vocab, words=words)\n",
    "    example = Example.from_dict(doc, {\"tags\": tags})\n",
    "    train_data.append(example)\n",
    "\n",
    "nlp = spacy.blank(\"es\")\n",
    "nlp.add_pipe(\"tagger\")\n",
    "for example in train_data:\n",
    "    nlp.update([example])\n",
    "\n",
    "correct = 0\n",
    "total = 0\n",
    "for example in train_data:\n",
    "    doc = nlp(example.text)\n",
    "    for token, gold in zip(doc, example.annotation[\"tags\"]):\n",
    "        total += 1\n",
    "        if token.tag == gold:\n",
    "            correct += 1\n",
    "\n",
    "accuracy = correct / total\n",
    "print(f'Accuracy: {accuracy*100:.2f}%')\n"
   ]
  }
 ],
 "metadata": {
  "kernelspec": {
   "display_name": "Python 3",
   "language": "python",
   "name": "python3"
  },
  "language_info": {
   "codemirror_mode": {
    "name": "ipython",
    "version": 3
   },
   "file_extension": ".py",
   "mimetype": "text/x-python",
   "name": "python",
   "nbconvert_exporter": "python",
   "pygments_lexer": "ipython3",
   "version": "3.10.12"
  }
 },
 "nbformat": 4,
 "nbformat_minor": 2
}
