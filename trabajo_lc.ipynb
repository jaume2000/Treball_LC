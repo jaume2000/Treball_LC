{
 "cells": [
  {
   "cell_type": "markdown",
   "metadata": {},
   "source": [
    "# Trabajo LC\n",
    "\n",
    "Jaume Ivars Grimalt y Iñaki Diez Lambies"
   ]
  },
  {
   "cell_type": "markdown",
   "metadata": {},
   "source": [
    "#### Importaciones necesarias"
   ]
  },
  {
   "cell_type": "code",
   "execution_count": 13,
   "metadata": {},
   "outputs": [
    {
     "name": "stderr",
     "output_type": "stream",
     "text": [
      "[nltk_data] Downloading package cess_esp to /home/jaume/nltk_data...\n",
      "[nltk_data]   Package cess_esp is already up-to-date!\n"
     ]
    }
   ],
   "source": [
    "import nltk\n",
    "from nltk.corpus import cess_esp\n",
    "from nltk.tag import hmm, tnt, AffixTagger, brill, brill_trainer, UnigramTagger, PerceptronTagger\n",
    "import numpy as np\n",
    "import matplotlib.pyplot as plt\n",
    "import pandas as pd\n",
    "from scipy.stats import t\n",
    "import scipy.stats as stats\n",
    "from IPython.display import display\n",
    "from sklearn.model_selection import train_test_split\n",
    "\n",
    "nltk.download(\"cess_esp\")\n",
    "cess_sents = list(cess_esp.tagged_sents())\n",
    "np.random.shuffle(cess_sents)"
   ]
  },
  {
   "cell_type": "markdown",
   "metadata": {},
   "source": [
    "## Ejercicio 1\n",
    "\n",
    "Evaluación del etiquetador ‘hmm’ sobre el corpus ‘cess-esp’ utilizando el juego de\n",
    "categorías completo y reducido.\n",
    "\n",
    "Utilizando el etiquetador hmm basado en modelos de Markov, se realizará una validación cruzada\n",
    "sobre 10 particiones del corpus. Barajar el corpus antes de realizar las particiones. Presentar los\n",
    "resultados en forma de tabla y gráficamente, incluyendo los intervalos de confianza."
   ]
  },
  {
   "cell_type": "code",
   "execution_count": 14,
   "metadata": {},
   "outputs": [],
   "source": [
    "def show_accuracy_table(accuracies, title, labels, show_mean=True, show_ic=True):\n",
    "    mean_acc = np.mean(accuracies)\n",
    "    conf_int = stats.t.interval(0.95, len(accuracies) - 1, loc=mean_acc, scale=stats.sem(accuracies))\n",
    "    \n",
    "    data = {\n",
    "        title: labels,\n",
    "        \"Accuracy\": accuracies\n",
    "    }\n",
    "\n",
    "    if show_mean:\n",
    "        data[title] += [\"Mean\"]\n",
    "        data[\"Accuracy\"] = data[\"Accuracy\"] + [mean_acc]\n",
    "\n",
    "    if show_ic:\n",
    "        data[title] += [\"Confidence interval\"]\n",
    "        data[\"Accuracy\"] = data[\"Accuracy\"] + [f\"{conf_int[0]:.4f} - {conf_int[1]:.4f}\"]\n",
    "\n",
    "    df = pd.DataFrame(data)\n",
    "    display(df)"
   ]
  },
  {
   "cell_type": "code",
   "execution_count": 15,
   "metadata": {},
   "outputs": [],
   "source": [
    "def show_accuracy_graph(accuracies, title, labels, x_label, show_error_bars=True):\n",
    "    plt.figure(figsize=(10, 5))\n",
    "\n",
    "    acc_mean = np.mean(accuracies)\n",
    "    plt.ylim(max(0, min(accuracies - (accuracies - acc_mean / 2.0))), min(1, max(accuracies + (accuracies - acc_mean / 2.0))))\n",
    "    \n",
    "    x = list(range(len(accuracies)))\n",
    "    plt.plot(x, accuracies, 'ro-')\n",
    "    \n",
    "    plt.xticks(x, labels)\n",
    "    plt.xlabel(x_label)\n",
    "    plt.ylabel('Accuracy')\n",
    "    plt.title(title)\n",
    "    \n",
    "    if show_error_bars:\n",
    "        conf_int = stats.t.interval(0.95, len(accuracies) - 1, loc=acc_mean, scale=stats.sem(accuracies))\n",
    "        error_y = (conf_int[1] - conf_int[0]) / 2\n",
    "        plt.errorbar(x, accuracies, yerr=error_y, linestyle='None', color='blue', capsize=5)\n",
    "    \n",
    "    plt.grid(True)\n",
    "    plt.show()\n"
   ]
  },
  {
   "cell_type": "code",
   "execution_count": 21,
   "metadata": {},
   "outputs": [],
   "source": [
    "def cross_validate_hmm(sentences, num_partitions):\n",
    "    partition_size = len(sentences) // num_partitions\n",
    "    partitions = [sentences[i * partition_size: (i + 1) * partition_size] for i in range(num_partitions)]\n",
    "\n",
    "    accuracies = []\n",
    "    for i in range(num_partitions):\n",
    "        test_data = partitions[i]\n",
    "        train_data = [sentence for part_idx, partition in enumerate(partitions) if part_idx != i for sentence in partition]\n",
    "\n",
    "        trainer = hmm.HiddenMarkovModelTagger\n",
    "        hmm_tagger = trainer.train(train_data)\n",
    "        acc = hmm_tagger.accuracy(test_data)\n",
    "        accuracies.append(acc)\n",
    "        print(f\"Accuracy for partition {i}: {acc}\")\n",
    "\n",
    "    mean_acc = np.mean(accuracies)\n",
    "    conf_int = t.interval(0.95, len(accuracies) - 1, loc=mean_acc, scale=stats.sem(accuracies))\n",
    "    print(\"Mean accuracy: \", mean_acc)\n",
    "    print(\"Confidence interval: \", conf_int)\n",
    "\n",
    "    return accuracies"
   ]
  },
  {
   "cell_type": "markdown",
   "metadata": {},
   "source": [
    "### Con todas las categorías"
   ]
  },
  {
   "cell_type": "markdown",
   "metadata": {},
   "source": [
    "Realizar experimentos"
   ]
  },
  {
   "cell_type": "code",
   "execution_count": 22,
   "metadata": {},
   "outputs": [
    {
     "name": "stdout",
     "output_type": "stream",
     "text": [
      "Accuracy for partition 0: 0.898022837809262\n"
     ]
    },
    {
     "ename": "KeyboardInterrupt",
     "evalue": "",
     "output_type": "error",
     "traceback": [
      "\u001b[0;31m---------------------------------------------------------------------------\u001b[0m",
      "\u001b[0;31mKeyboardInterrupt\u001b[0m                         Traceback (most recent call last)",
      "\u001b[0;32m/tmp/ipykernel_74562/4073743689.py\u001b[0m in \u001b[0;36m<module>\u001b[0;34m\u001b[0m\n\u001b[0;32m----> 1\u001b[0;31m \u001b[0mall_categories_accuracies\u001b[0m \u001b[0;34m=\u001b[0m \u001b[0mcross_validate_hmm\u001b[0m\u001b[0;34m(\u001b[0m\u001b[0mcess_sents\u001b[0m\u001b[0;34m,\u001b[0m \u001b[0;36m10\u001b[0m\u001b[0;34m)\u001b[0m\u001b[0;34m\u001b[0m\u001b[0;34m\u001b[0m\u001b[0m\n\u001b[0m",
      "\u001b[0;32m/tmp/ipykernel_74562/2338330248.py\u001b[0m in \u001b[0;36mcross_validate_hmm\u001b[0;34m(sentences, num_partitions)\u001b[0m\n\u001b[1;32m     10\u001b[0m         \u001b[0mtrainer\u001b[0m \u001b[0;34m=\u001b[0m \u001b[0mhmm\u001b[0m\u001b[0;34m.\u001b[0m\u001b[0mHiddenMarkovModelTagger\u001b[0m\u001b[0;34m\u001b[0m\u001b[0;34m\u001b[0m\u001b[0m\n\u001b[1;32m     11\u001b[0m         \u001b[0mhmm_tagger\u001b[0m \u001b[0;34m=\u001b[0m \u001b[0mtrainer\u001b[0m\u001b[0;34m.\u001b[0m\u001b[0mtrain\u001b[0m\u001b[0;34m(\u001b[0m\u001b[0mtrain_data\u001b[0m\u001b[0;34m)\u001b[0m\u001b[0;34m\u001b[0m\u001b[0;34m\u001b[0m\u001b[0m\n\u001b[0;32m---> 12\u001b[0;31m         \u001b[0macc\u001b[0m \u001b[0;34m=\u001b[0m \u001b[0mhmm_tagger\u001b[0m\u001b[0;34m.\u001b[0m\u001b[0maccuracy\u001b[0m\u001b[0;34m(\u001b[0m\u001b[0mtest_data\u001b[0m\u001b[0;34m)\u001b[0m\u001b[0;34m\u001b[0m\u001b[0;34m\u001b[0m\u001b[0m\n\u001b[0m\u001b[1;32m     13\u001b[0m         \u001b[0maccuracies\u001b[0m\u001b[0;34m.\u001b[0m\u001b[0mappend\u001b[0m\u001b[0;34m(\u001b[0m\u001b[0macc\u001b[0m\u001b[0;34m)\u001b[0m\u001b[0;34m\u001b[0m\u001b[0;34m\u001b[0m\u001b[0m\n\u001b[1;32m     14\u001b[0m         \u001b[0mprint\u001b[0m\u001b[0;34m(\u001b[0m\u001b[0;34mf\"Accuracy for partition {i}: {acc}\"\u001b[0m\u001b[0;34m)\u001b[0m\u001b[0;34m\u001b[0m\u001b[0;34m\u001b[0m\u001b[0m\n",
      "\u001b[0;32m~/.local/lib/python3.10/site-packages/nltk/tag/api.py\u001b[0m in \u001b[0;36maccuracy\u001b[0;34m(self, gold)\u001b[0m\n\u001b[1;32m     72\u001b[0m         \"\"\"\n\u001b[1;32m     73\u001b[0m \u001b[0;34m\u001b[0m\u001b[0m\n\u001b[0;32m---> 74\u001b[0;31m         \u001b[0mtagged_sents\u001b[0m \u001b[0;34m=\u001b[0m \u001b[0mself\u001b[0m\u001b[0;34m.\u001b[0m\u001b[0mtag_sents\u001b[0m\u001b[0;34m(\u001b[0m\u001b[0muntag\u001b[0m\u001b[0;34m(\u001b[0m\u001b[0msent\u001b[0m\u001b[0;34m)\u001b[0m \u001b[0;32mfor\u001b[0m \u001b[0msent\u001b[0m \u001b[0;32min\u001b[0m \u001b[0mgold\u001b[0m\u001b[0;34m)\u001b[0m\u001b[0;34m\u001b[0m\u001b[0;34m\u001b[0m\u001b[0m\n\u001b[0m\u001b[1;32m     75\u001b[0m         \u001b[0mgold_tokens\u001b[0m \u001b[0;34m=\u001b[0m \u001b[0mlist\u001b[0m\u001b[0;34m(\u001b[0m\u001b[0mchain\u001b[0m\u001b[0;34m.\u001b[0m\u001b[0mfrom_iterable\u001b[0m\u001b[0;34m(\u001b[0m\u001b[0mgold\u001b[0m\u001b[0;34m)\u001b[0m\u001b[0;34m)\u001b[0m\u001b[0;34m\u001b[0m\u001b[0;34m\u001b[0m\u001b[0m\n\u001b[1;32m     76\u001b[0m         \u001b[0mtest_tokens\u001b[0m \u001b[0;34m=\u001b[0m \u001b[0mlist\u001b[0m\u001b[0;34m(\u001b[0m\u001b[0mchain\u001b[0m\u001b[0;34m.\u001b[0m\u001b[0mfrom_iterable\u001b[0m\u001b[0;34m(\u001b[0m\u001b[0mtagged_sents\u001b[0m\u001b[0;34m)\u001b[0m\u001b[0;34m)\u001b[0m\u001b[0;34m\u001b[0m\u001b[0;34m\u001b[0m\u001b[0m\n",
      "\u001b[0;32m~/.local/lib/python3.10/site-packages/nltk/tag/api.py\u001b[0m in \u001b[0;36mtag_sents\u001b[0;34m(self, sentences)\u001b[0m\n\u001b[1;32m     55\u001b[0m             \u001b[0;32mreturn\u001b[0m \u001b[0;34m[\u001b[0m\u001b[0mself\u001b[0m\u001b[0;34m.\u001b[0m\u001b[0mtag\u001b[0m\u001b[0;34m(\u001b[0m\u001b[0msent\u001b[0m\u001b[0;34m)\u001b[0m \u001b[0;32mfor\u001b[0m \u001b[0msent\u001b[0m \u001b[0;32min\u001b[0m \u001b[0msentences\u001b[0m\u001b[0;34m]\u001b[0m\u001b[0;34m\u001b[0m\u001b[0;34m\u001b[0m\u001b[0m\n\u001b[1;32m     56\u001b[0m         \"\"\"\n\u001b[0;32m---> 57\u001b[0;31m         \u001b[0;32mreturn\u001b[0m \u001b[0;34m[\u001b[0m\u001b[0mself\u001b[0m\u001b[0;34m.\u001b[0m\u001b[0mtag\u001b[0m\u001b[0;34m(\u001b[0m\u001b[0msent\u001b[0m\u001b[0;34m)\u001b[0m \u001b[0;32mfor\u001b[0m \u001b[0msent\u001b[0m \u001b[0;32min\u001b[0m \u001b[0msentences\u001b[0m\u001b[0;34m]\u001b[0m\u001b[0;34m\u001b[0m\u001b[0;34m\u001b[0m\u001b[0m\n\u001b[0m\u001b[1;32m     58\u001b[0m \u001b[0;34m\u001b[0m\u001b[0m\n\u001b[1;32m     59\u001b[0m     \u001b[0;34m@\u001b[0m\u001b[0mdeprecated\u001b[0m\u001b[0;34m(\u001b[0m\u001b[0;34m\"Use accuracy(gold) instead.\"\u001b[0m\u001b[0;34m)\u001b[0m\u001b[0;34m\u001b[0m\u001b[0;34m\u001b[0m\u001b[0m\n",
      "\u001b[0;32m~/.local/lib/python3.10/site-packages/nltk/tag/api.py\u001b[0m in \u001b[0;36m<listcomp>\u001b[0;34m(.0)\u001b[0m\n\u001b[1;32m     55\u001b[0m             \u001b[0;32mreturn\u001b[0m \u001b[0;34m[\u001b[0m\u001b[0mself\u001b[0m\u001b[0;34m.\u001b[0m\u001b[0mtag\u001b[0m\u001b[0;34m(\u001b[0m\u001b[0msent\u001b[0m\u001b[0;34m)\u001b[0m \u001b[0;32mfor\u001b[0m \u001b[0msent\u001b[0m \u001b[0;32min\u001b[0m \u001b[0msentences\u001b[0m\u001b[0;34m]\u001b[0m\u001b[0;34m\u001b[0m\u001b[0;34m\u001b[0m\u001b[0m\n\u001b[1;32m     56\u001b[0m         \"\"\"\n\u001b[0;32m---> 57\u001b[0;31m         \u001b[0;32mreturn\u001b[0m \u001b[0;34m[\u001b[0m\u001b[0mself\u001b[0m\u001b[0;34m.\u001b[0m\u001b[0mtag\u001b[0m\u001b[0;34m(\u001b[0m\u001b[0msent\u001b[0m\u001b[0;34m)\u001b[0m \u001b[0;32mfor\u001b[0m \u001b[0msent\u001b[0m \u001b[0;32min\u001b[0m \u001b[0msentences\u001b[0m\u001b[0;34m]\u001b[0m\u001b[0;34m\u001b[0m\u001b[0;34m\u001b[0m\u001b[0m\n\u001b[0m\u001b[1;32m     58\u001b[0m \u001b[0;34m\u001b[0m\u001b[0m\n\u001b[1;32m     59\u001b[0m     \u001b[0;34m@\u001b[0m\u001b[0mdeprecated\u001b[0m\u001b[0;34m(\u001b[0m\u001b[0;34m\"Use accuracy(gold) instead.\"\u001b[0m\u001b[0;34m)\u001b[0m\u001b[0;34m\u001b[0m\u001b[0;34m\u001b[0m\u001b[0m\n",
      "\u001b[0;32m~/.local/lib/python3.10/site-packages/nltk/tag/hmm.py\u001b[0m in \u001b[0;36mtag\u001b[0;34m(self, unlabeled_sequence)\u001b[0m\n\u001b[1;32m    286\u001b[0m         \"\"\"\n\u001b[1;32m    287\u001b[0m         \u001b[0munlabeled_sequence\u001b[0m \u001b[0;34m=\u001b[0m \u001b[0mself\u001b[0m\u001b[0;34m.\u001b[0m\u001b[0m_transform\u001b[0m\u001b[0;34m(\u001b[0m\u001b[0munlabeled_sequence\u001b[0m\u001b[0;34m)\u001b[0m\u001b[0;34m\u001b[0m\u001b[0;34m\u001b[0m\u001b[0m\n\u001b[0;32m--> 288\u001b[0;31m         \u001b[0;32mreturn\u001b[0m \u001b[0mself\u001b[0m\u001b[0;34m.\u001b[0m\u001b[0m_tag\u001b[0m\u001b[0;34m(\u001b[0m\u001b[0munlabeled_sequence\u001b[0m\u001b[0;34m)\u001b[0m\u001b[0;34m\u001b[0m\u001b[0;34m\u001b[0m\u001b[0m\n\u001b[0m\u001b[1;32m    289\u001b[0m \u001b[0;34m\u001b[0m\u001b[0m\n\u001b[1;32m    290\u001b[0m     \u001b[0;32mdef\u001b[0m \u001b[0m_tag\u001b[0m\u001b[0;34m(\u001b[0m\u001b[0mself\u001b[0m\u001b[0;34m,\u001b[0m \u001b[0munlabeled_sequence\u001b[0m\u001b[0;34m)\u001b[0m\u001b[0;34m:\u001b[0m\u001b[0;34m\u001b[0m\u001b[0;34m\u001b[0m\u001b[0m\n",
      "\u001b[0;32m~/.local/lib/python3.10/site-packages/nltk/tag/hmm.py\u001b[0m in \u001b[0;36m_tag\u001b[0;34m(self, unlabeled_sequence)\u001b[0m\n\u001b[1;32m    289\u001b[0m \u001b[0;34m\u001b[0m\u001b[0m\n\u001b[1;32m    290\u001b[0m     \u001b[0;32mdef\u001b[0m \u001b[0m_tag\u001b[0m\u001b[0;34m(\u001b[0m\u001b[0mself\u001b[0m\u001b[0;34m,\u001b[0m \u001b[0munlabeled_sequence\u001b[0m\u001b[0;34m)\u001b[0m\u001b[0;34m:\u001b[0m\u001b[0;34m\u001b[0m\u001b[0;34m\u001b[0m\u001b[0m\n\u001b[0;32m--> 291\u001b[0;31m         \u001b[0mpath\u001b[0m \u001b[0;34m=\u001b[0m \u001b[0mself\u001b[0m\u001b[0;34m.\u001b[0m\u001b[0m_best_path\u001b[0m\u001b[0;34m(\u001b[0m\u001b[0munlabeled_sequence\u001b[0m\u001b[0;34m)\u001b[0m\u001b[0;34m\u001b[0m\u001b[0;34m\u001b[0m\u001b[0m\n\u001b[0m\u001b[1;32m    292\u001b[0m         \u001b[0;32mreturn\u001b[0m \u001b[0mlist\u001b[0m\u001b[0;34m(\u001b[0m\u001b[0mzip\u001b[0m\u001b[0;34m(\u001b[0m\u001b[0munlabeled_sequence\u001b[0m\u001b[0;34m,\u001b[0m \u001b[0mpath\u001b[0m\u001b[0;34m)\u001b[0m\u001b[0;34m)\u001b[0m\u001b[0;34m\u001b[0m\u001b[0;34m\u001b[0m\u001b[0m\n\u001b[1;32m    293\u001b[0m \u001b[0;34m\u001b[0m\u001b[0m\n",
      "\u001b[0;32m~/.local/lib/python3.10/site-packages/nltk/tag/hmm.py\u001b[0m in \u001b[0;36m_best_path\u001b[0;34m(self, unlabeled_sequence)\u001b[0m\n\u001b[1;32m    399\u001b[0m             \u001b[0;32mfor\u001b[0m \u001b[0mj\u001b[0m \u001b[0;32min\u001b[0m \u001b[0mrange\u001b[0m\u001b[0;34m(\u001b[0m\u001b[0mN\u001b[0m\u001b[0;34m)\u001b[0m\u001b[0;34m:\u001b[0m\u001b[0;34m\u001b[0m\u001b[0;34m\u001b[0m\u001b[0m\n\u001b[1;32m    400\u001b[0m                 \u001b[0mvs\u001b[0m \u001b[0;34m=\u001b[0m \u001b[0mV\u001b[0m\u001b[0;34m[\u001b[0m\u001b[0mt\u001b[0m \u001b[0;34m-\u001b[0m \u001b[0;36m1\u001b[0m\u001b[0;34m,\u001b[0m \u001b[0;34m:\u001b[0m\u001b[0;34m]\u001b[0m \u001b[0;34m+\u001b[0m \u001b[0mX\u001b[0m\u001b[0;34m[\u001b[0m\u001b[0;34m:\u001b[0m\u001b[0;34m,\u001b[0m \u001b[0mj\u001b[0m\u001b[0;34m]\u001b[0m\u001b[0;34m\u001b[0m\u001b[0;34m\u001b[0m\u001b[0m\n\u001b[0;32m--> 401\u001b[0;31m                 \u001b[0mbest\u001b[0m \u001b[0;34m=\u001b[0m \u001b[0mnp\u001b[0m\u001b[0;34m.\u001b[0m\u001b[0margmax\u001b[0m\u001b[0;34m(\u001b[0m\u001b[0mvs\u001b[0m\u001b[0;34m)\u001b[0m\u001b[0;34m\u001b[0m\u001b[0;34m\u001b[0m\u001b[0m\n\u001b[0m\u001b[1;32m    402\u001b[0m                 \u001b[0mV\u001b[0m\u001b[0;34m[\u001b[0m\u001b[0mt\u001b[0m\u001b[0;34m,\u001b[0m \u001b[0mj\u001b[0m\u001b[0;34m]\u001b[0m \u001b[0;34m=\u001b[0m \u001b[0mvs\u001b[0m\u001b[0;34m[\u001b[0m\u001b[0mbest\u001b[0m\u001b[0;34m]\u001b[0m \u001b[0;34m+\u001b[0m \u001b[0mO\u001b[0m\u001b[0;34m[\u001b[0m\u001b[0mj\u001b[0m\u001b[0;34m,\u001b[0m \u001b[0mS\u001b[0m\u001b[0;34m[\u001b[0m\u001b[0munlabeled_sequence\u001b[0m\u001b[0;34m[\u001b[0m\u001b[0mt\u001b[0m\u001b[0;34m]\u001b[0m\u001b[0;34m]\u001b[0m\u001b[0;34m]\u001b[0m\u001b[0;34m\u001b[0m\u001b[0;34m\u001b[0m\u001b[0m\n\u001b[1;32m    403\u001b[0m                 \u001b[0mB\u001b[0m\u001b[0;34m[\u001b[0m\u001b[0mt\u001b[0m\u001b[0;34m,\u001b[0m \u001b[0mj\u001b[0m\u001b[0;34m]\u001b[0m \u001b[0;34m=\u001b[0m \u001b[0mbest\u001b[0m\u001b[0;34m\u001b[0m\u001b[0;34m\u001b[0m\u001b[0m\n",
      "\u001b[0;32m~/.local/lib/python3.10/site-packages/numpy/core/overrides.py\u001b[0m in \u001b[0;36margmax\u001b[0;34m(*args, **kwargs)\u001b[0m\n",
      "\u001b[0;31mKeyboardInterrupt\u001b[0m: "
     ]
    }
   ],
   "source": [
    "all_categories_accuracies = cross_validate_hmm(cess_sents, 10)"
   ]
  },
  {
   "cell_type": "markdown",
   "metadata": {},
   "source": [
    "Mostrar resultados"
   ]
  },
  {
   "cell_type": "code",
   "execution_count": 6,
   "metadata": {},
   "outputs": [
    {
     "data": {
      "text/html": [
       "<div>\n",
       "<style scoped>\n",
       "    .dataframe tbody tr th:only-of-type {\n",
       "        vertical-align: middle;\n",
       "    }\n",
       "\n",
       "    .dataframe tbody tr th {\n",
       "        vertical-align: top;\n",
       "    }\n",
       "\n",
       "    .dataframe thead th {\n",
       "        text-align: right;\n",
       "    }\n",
       "</style>\n",
       "<table border=\"1\" class=\"dataframe\">\n",
       "  <thead>\n",
       "    <tr style=\"text-align: right;\">\n",
       "      <th></th>\n",
       "      <th>Accuracy por fold</th>\n",
       "      <th>Accuracy</th>\n",
       "    </tr>\n",
       "  </thead>\n",
       "  <tbody>\n",
       "    <tr>\n",
       "      <th>0</th>\n",
       "      <td>Fold 0</td>\n",
       "      <td>0.299072</td>\n",
       "    </tr>\n",
       "    <tr>\n",
       "      <th>1</th>\n",
       "      <td>Fold 1</td>\n",
       "      <td>0.269302</td>\n",
       "    </tr>\n",
       "    <tr>\n",
       "      <th>2</th>\n",
       "      <td>Fold 2</td>\n",
       "      <td>0.26768</td>\n",
       "    </tr>\n",
       "    <tr>\n",
       "      <th>3</th>\n",
       "      <td>Fold 3</td>\n",
       "      <td>0.266148</td>\n",
       "    </tr>\n",
       "    <tr>\n",
       "      <th>4</th>\n",
       "      <td>Fold 4</td>\n",
       "      <td>0.279027</td>\n",
       "    </tr>\n",
       "    <tr>\n",
       "      <th>5</th>\n",
       "      <td>Fold 5</td>\n",
       "      <td>0.269685</td>\n",
       "    </tr>\n",
       "    <tr>\n",
       "      <th>6</th>\n",
       "      <td>Fold 6</td>\n",
       "      <td>0.289036</td>\n",
       "    </tr>\n",
       "    <tr>\n",
       "      <th>7</th>\n",
       "      <td>Fold 7</td>\n",
       "      <td>0.277789</td>\n",
       "    </tr>\n",
       "    <tr>\n",
       "      <th>8</th>\n",
       "      <td>Fold 8</td>\n",
       "      <td>0.282163</td>\n",
       "    </tr>\n",
       "    <tr>\n",
       "      <th>9</th>\n",
       "      <td>Fold 9</td>\n",
       "      <td>0.286332</td>\n",
       "    </tr>\n",
       "    <tr>\n",
       "      <th>10</th>\n",
       "      <td>Media</td>\n",
       "      <td>0.278624</td>\n",
       "    </tr>\n",
       "    <tr>\n",
       "      <th>11</th>\n",
       "      <td>Intervalo de Confianza</td>\n",
       "      <td>0.2709 - 0.2863</td>\n",
       "    </tr>\n",
       "  </tbody>\n",
       "</table>\n",
       "</div>"
      ],
      "text/plain": [
       "         Accuracy por fold         Accuracy\n",
       "0                   Fold 0         0.299072\n",
       "1                   Fold 1         0.269302\n",
       "2                   Fold 2          0.26768\n",
       "3                   Fold 3         0.266148\n",
       "4                   Fold 4         0.279027\n",
       "5                   Fold 5         0.269685\n",
       "6                   Fold 6         0.289036\n",
       "7                   Fold 7         0.277789\n",
       "8                   Fold 8         0.282163\n",
       "9                   Fold 9         0.286332\n",
       "10                   Media         0.278624\n",
       "11  Intervalo de Confianza  0.2709 - 0.2863"
      ]
     },
     "metadata": {},
     "output_type": "display_data"
    },
    {
     "data": {
      "image/png": "[encoded data removed]",
      "text/plain": [
       "<Figure size 1000x500 with 1 Axes>"
      ]
     },
     "metadata": {},
     "output_type": "display_data"
    }
   ],
   "source": [
    "show_accuracy_table(all_categories_accuracies, \"Accuracy por fold\", [\"Fold \" + str(i) for i in range(10)])\n",
    "show_accuracy_graph(all_categories_accuracies, \"Accuracy por fold\", list(range(10)), \"Fold iteration\")"
   ]
  },
  {
   "cell_type": "markdown",
   "metadata": {},
   "source": [
    "### Juego de categorías reducido\n",
    "Preprocesado para reducir las categorías"
   ]
  },
  {
   "cell_type": "code",
   "execution_count": 93,
   "metadata": {},
   "outputs": [],
   "source": [
    "reduced_cess_sents = []\n",
    "for sentence in cess_sents:\n",
    "    new_line = []\n",
    "    for word, key in sentence:\n",
    "        if word == \"*0*\" and key == \"sn\":\n",
    "            continue\n",
    "        elif key[0] == 'v' or key[0] == 'F':\n",
    "            key = key[:3]\n",
    "        else:\n",
    "            key = key[:2]\n",
    "        new_line.append((word,key))\n",
    "    reduced_cess_sents.append(new_line)"
   ]
  },
  {
   "cell_type": "markdown",
   "metadata": {},
   "source": [
    "Realizar experimento"
   ]
  },
  {
   "cell_type": "code",
   "execution_count": 16,
   "metadata": {},
   "outputs": [
    {
     "name": "stderr",
     "output_type": "stream",
     "text": [
      "c:\\MUIARFID\\LC\\Treball_LC\\.venv\\Lib\\site-packages\\nltk\\tag\\hmm.py:334: RuntimeWarning: overflow encountered in cast\n",
      "  X[i, j] = self._transitions[si].logprob(self._states[j])\n",
      "c:\\MUIARFID\\LC\\Treball_LC\\.venv\\Lib\\site-packages\\nltk\\tag\\hmm.py:336: RuntimeWarning: overflow encountered in cast\n",
      "  O[i, k] = self._output_logprob(si, self._symbols[k])\n",
      "c:\\MUIARFID\\LC\\Treball_LC\\.venv\\Lib\\site-packages\\nltk\\tag\\hmm.py:332: RuntimeWarning: overflow encountered in cast\n",
      "  P[i] = self._priors.logprob(si)\n",
      "c:\\MUIARFID\\LC\\Treball_LC\\.venv\\Lib\\site-packages\\nltk\\tag\\hmm.py:364: RuntimeWarning: overflow encountered in cast\n",
      "  O[i, k] = self._output_logprob(si, self._symbols[k])\n"
     ]
    },
    {
     "name": "stdout",
     "output_type": "stream",
     "text": [
      "Accuracy for partition 0: 0.36914932648461657\n",
      "Accuracy for partition 1: 0.3044818475388981\n",
      "Accuracy for partition 2: 0.30947035411776713\n",
      "Accuracy for partition 3: 0.30261666838364065\n",
      "Accuracy for partition 4: 0.31778274196062134\n",
      "Accuracy for partition 5: 0.3027697665560211\n",
      "Accuracy for partition 6: 0.3232081556225944\n",
      "Accuracy for partition 7: 0.31261643552059615\n",
      "Accuracy for partition 8: 0.3192440039032407\n",
      "Accuracy for partition 9: 0.3204754186925986\n",
      "Mean accuracy:  0.31818147187805945\n",
      "Confidence interval:  (0.3042695494928558, 0.3320933942632631)\n"
     ]
    }
   ],
   "source": [
    "reduced_categories_accuracies = cross_validate_hmm(reduced_cess_sents, 10)"
   ]
  },
  {
   "cell_type": "markdown",
   "metadata": {},
   "source": [
    "Mostrar resultados"
   ]
  },
  {
   "cell_type": "code",
   "execution_count": 18,
   "metadata": {},
   "outputs": [
    {
     "data": {
      "text/html": [
       "<div>\n",
       "<style scoped>\n",
       "    .dataframe tbody tr th:only-of-type {\n",
       "        vertical-align: middle;\n",
       "    }\n",
       "\n",
       "    .dataframe tbody tr th {\n",
       "        vertical-align: top;\n",
       "    }\n",
       "\n",
       "    .dataframe thead th {\n",
       "        text-align: right;\n",
       "    }\n",
       "</style>\n",
       "<table border=\"1\" class=\"dataframe\">\n",
       "  <thead>\n",
       "    <tr style=\"text-align: right;\">\n",
       "      <th></th>\n",
       "      <th>Accuracy por fold</th>\n",
       "      <th>Accuracy</th>\n",
       "    </tr>\n",
       "  </thead>\n",
       "  <tbody>\n",
       "    <tr>\n",
       "      <th>0</th>\n",
       "      <td>Fold 0</td>\n",
       "      <td>0.369149</td>\n",
       "    </tr>\n",
       "    <tr>\n",
       "      <th>1</th>\n",
       "      <td>Fold 1</td>\n",
       "      <td>0.304482</td>\n",
       "    </tr>\n",
       "    <tr>\n",
       "      <th>2</th>\n",
       "      <td>Fold 2</td>\n",
       "      <td>0.30947</td>\n",
       "    </tr>\n",
       "    <tr>\n",
       "      <th>3</th>\n",
       "      <td>Fold 3</td>\n",
       "      <td>0.302617</td>\n",
       "    </tr>\n",
       "    <tr>\n",
       "      <th>4</th>\n",
       "      <td>Fold 4</td>\n",
       "      <td>0.317783</td>\n",
       "    </tr>\n",
       "    <tr>\n",
       "      <th>5</th>\n",
       "      <td>Fold 5</td>\n",
       "      <td>0.30277</td>\n",
       "    </tr>\n",
       "    <tr>\n",
       "      <th>6</th>\n",
       "      <td>Fold 6</td>\n",
       "      <td>0.323208</td>\n",
       "    </tr>\n",
       "    <tr>\n",
       "      <th>7</th>\n",
       "      <td>Fold 7</td>\n",
       "      <td>0.312616</td>\n",
       "    </tr>\n",
       "    <tr>\n",
       "      <th>8</th>\n",
       "      <td>Fold 8</td>\n",
       "      <td>0.319244</td>\n",
       "    </tr>\n",
       "    <tr>\n",
       "      <th>9</th>\n",
       "      <td>Fold 9</td>\n",
       "      <td>0.320475</td>\n",
       "    </tr>\n",
       "    <tr>\n",
       "      <th>10</th>\n",
       "      <td>Media</td>\n",
       "      <td>0.318181</td>\n",
       "    </tr>\n",
       "    <tr>\n",
       "      <th>11</th>\n",
       "      <td>Intervalo de Confianza</td>\n",
       "      <td>0.3043 - 0.3321</td>\n",
       "    </tr>\n",
       "  </tbody>\n",
       "</table>\n",
       "</div>"
      ],
      "text/plain": [
       "         Accuracy por fold         Accuracy\n",
       "0                   Fold 0         0.369149\n",
       "1                   Fold 1         0.304482\n",
       "2                   Fold 2          0.30947\n",
       "3                   Fold 3         0.302617\n",
       "4                   Fold 4         0.317783\n",
       "5                   Fold 5          0.30277\n",
       "6                   Fold 6         0.323208\n",
       "7                   Fold 7         0.312616\n",
       "8                   Fold 8         0.319244\n",
       "9                   Fold 9         0.320475\n",
       "10                   Media         0.318181\n",
       "11  Intervalo de Confianza  0.3043 - 0.3321"
      ]
     },
     "metadata": {},
     "output_type": "display_data"
    },
    {
     "data": {
      "image/png": "[encoded data removed]",
      "text/plain": [
       "<Figure size 1000x500 with 1 Axes>"
      ]
     },
     "metadata": {},
     "output_type": "display_data"
    }
   ],
   "source": [
    "show_accuracy_table(reduced_categories_accuracies, \"Accuracy por fold\", [\"Fold \" + str(i) for i in range(10)])\n",
    "show_accuracy_graph(reduced_categories_accuracies, \"Accuracy por fold\", list(range(10)), \"Fold iteration\")"
   ]
  },
  {
   "cell_type": "markdown",
   "metadata": {},
   "source": [
    "## Ejercicio 2\n",
    "\n",
    "Evaluación de las prestaciones del etiquetador respecto a la cantidad de datos de \n",
    "aprendizaje.\n",
    "\n",
    "Se trata de estudiar cómo varían las prestaciones del etiquetador hmm cuando varía el tamaño del\n",
    "corpus de aprendizaje. Para este experimento se dividirá el corpus de entrenamiento en 10 partes\n",
    "de tamaño similar. La partición 10 se tomará como test, y las 9 particiones restantes se tomarán\n",
    "como entrenamiento. En cada ejecución, se irá incrementando sucesivamente el tamaño del corpus\n",
    "de entrenamiento, manteniendo fija la partición de test.\n",
    "Importante: Para esta tarea no es necesario realizar la validación cruzada. "
   ]
  },
  {
   "cell_type": "code",
   "execution_count": 10,
   "metadata": {},
   "outputs": [],
   "source": [
    "def accumulated_validation(sentences, num_partitions):\n",
    "    partition_size = len(sentences) // num_partitions\n",
    "    partitions = [sentences[i * partition_size: (i + 1) * partition_size] for i in range(num_partitions)]\n",
    "\n",
    "    train_data = []\n",
    "    test_data = partitions[-1]\n",
    "\n",
    "    accuracies = []\n",
    "    for i in range(num_partitions-1):\n",
    "        train_data += partitions[i]\n",
    "\n",
    "        classifier = hmm.HiddenMarkovModelTagger()\n",
    "        hmm_tagger = classifier.train(train_data)\n",
    "        acc = hmm_tagger.accuracy(test_data)\n",
    "        accuracies.append(acc)\n",
    "        print(f\"Accuracy for partition {i}: {acc}\")\n",
    "\n",
    "    mean_acc = np.mean(accuracies)\n",
    "    conf_int = t.interval(0.95, len(accuracies) - 1, loc=mean_acc, scale=stats.sem(accuracies))\n",
    "    print(\"Mean accuracy: \", mean_acc)\n",
    "    print(\"Confidence interval: \", conf_int)\n",
    "\n",
    "    return accuracies"
   ]
  },
  {
   "cell_type": "markdown",
   "metadata": {},
   "source": [
    "Realizar experimentos"
   ]
  },
  {
   "cell_type": "code",
   "execution_count": 11,
   "metadata": {},
   "outputs": [
    {
     "name": "stderr",
     "output_type": "stream",
     "text": [
      "c:\\MUIARFID\\LC\\Treball_LC\\.venv\\Lib\\site-packages\\nltk\\tag\\hmm.py:334: RuntimeWarning: overflow encountered in cast\n",
      "  X[i, j] = self._transitions[si].logprob(self._states[j])\n",
      "c:\\MUIARFID\\LC\\Treball_LC\\.venv\\Lib\\site-packages\\nltk\\tag\\hmm.py:336: RuntimeWarning: overflow encountered in cast\n",
      "  O[i, k] = self._output_logprob(si, self._symbols[k])\n",
      "c:\\MUIARFID\\LC\\Treball_LC\\.venv\\Lib\\site-packages\\nltk\\tag\\hmm.py:332: RuntimeWarning: overflow encountered in cast\n",
      "  P[i] = self._priors.logprob(si)\n",
      "c:\\MUIARFID\\LC\\Treball_LC\\.venv\\Lib\\site-packages\\nltk\\tag\\hmm.py:364: RuntimeWarning: overflow encountered in cast\n",
      "  O[i, k] = self._output_logprob(si, self._symbols[k])\n"
     ]
    },
    {
     "name": "stdout",
     "output_type": "stream",
     "text": [
      "Accuracy for partition 0: 0.044408427876823336\n",
      "Accuracy for partition 1: 0.09324689357104268\n",
      "Accuracy for partition 2: 0.13144246353322528\n",
      "Accuracy for partition 3: 0.16639654240950838\n",
      "Accuracy for partition 4: 0.1930848190167477\n",
      "Accuracy for partition 5: 0.21858454889249054\n",
      "Accuracy for partition 6: 0.2439222042139384\n",
      "Accuracy for partition 7: 0.26704484062668826\n",
      "Accuracy for partition 8: 0.2863317125877904\n",
      "Mean accuracy:  0.18271805030313945\n",
      "Confidence interval:  (0.1201430657302017, 0.2452930348760772)\n"
     ]
    }
   ],
   "source": [
    "accumulated_categories_accuracies = accumulated_validation(cess_sents, 10)"
   ]
  },
  {
   "cell_type": "markdown",
   "metadata": {},
   "source": [
    "Mostrar resultados"
   ]
  },
  {
   "cell_type": "code",
   "execution_count": 14,
   "metadata": {},
   "outputs": [
    {
     "data": {
      "text/html": [
       "<div>\n",
       "<style scoped>\n",
       "    .dataframe tbody tr th:only-of-type {\n",
       "        vertical-align: middle;\n",
       "    }\n",
       "\n",
       "    .dataframe tbody tr th {\n",
       "        vertical-align: top;\n",
       "    }\n",
       "\n",
       "    .dataframe thead th {\n",
       "        text-align: right;\n",
       "    }\n",
       "</style>\n",
       "<table border=\"1\" class=\"dataframe\">\n",
       "  <thead>\n",
       "    <tr style=\"text-align: right;\">\n",
       "      <th></th>\n",
       "      <th>Accuracy por number of partitions</th>\n",
       "      <th>Accuracy</th>\n",
       "    </tr>\n",
       "  </thead>\n",
       "  <tbody>\n",
       "    <tr>\n",
       "      <th>0</th>\n",
       "      <td>Number of partitions 1</td>\n",
       "      <td>0.044408</td>\n",
       "    </tr>\n",
       "    <tr>\n",
       "      <th>1</th>\n",
       "      <td>Number of partitions 2</td>\n",
       "      <td>0.093247</td>\n",
       "    </tr>\n",
       "    <tr>\n",
       "      <th>2</th>\n",
       "      <td>Number of partitions 3</td>\n",
       "      <td>0.131442</td>\n",
       "    </tr>\n",
       "    <tr>\n",
       "      <th>3</th>\n",
       "      <td>Number of partitions 4</td>\n",
       "      <td>0.166397</td>\n",
       "    </tr>\n",
       "    <tr>\n",
       "      <th>4</th>\n",
       "      <td>Number of partitions 5</td>\n",
       "      <td>0.193085</td>\n",
       "    </tr>\n",
       "    <tr>\n",
       "      <th>5</th>\n",
       "      <td>Number of partitions 6</td>\n",
       "      <td>0.218585</td>\n",
       "    </tr>\n",
       "    <tr>\n",
       "      <th>6</th>\n",
       "      <td>Number of partitions 7</td>\n",
       "      <td>0.243922</td>\n",
       "    </tr>\n",
       "    <tr>\n",
       "      <th>7</th>\n",
       "      <td>Number of partitions 8</td>\n",
       "      <td>0.267045</td>\n",
       "    </tr>\n",
       "    <tr>\n",
       "      <th>8</th>\n",
       "      <td>Number of partitions 9</td>\n",
       "      <td>0.286332</td>\n",
       "    </tr>\n",
       "    <tr>\n",
       "      <th>9</th>\n",
       "      <td>Media</td>\n",
       "      <td>0.182718</td>\n",
       "    </tr>\n",
       "    <tr>\n",
       "      <th>10</th>\n",
       "      <td>Intervalo de Confianza</td>\n",
       "      <td>0.1201 - 0.2453</td>\n",
       "    </tr>\n",
       "  </tbody>\n",
       "</table>\n",
       "</div>"
      ],
      "text/plain": [
       "   Accuracy por number of partitions         Accuracy\n",
       "0             Number of partitions 1         0.044408\n",
       "1             Number of partitions 2         0.093247\n",
       "2             Number of partitions 3         0.131442\n",
       "3             Number of partitions 4         0.166397\n",
       "4             Number of partitions 5         0.193085\n",
       "5             Number of partitions 6         0.218585\n",
       "6             Number of partitions 7         0.243922\n",
       "7             Number of partitions 8         0.267045\n",
       "8             Number of partitions 9         0.286332\n",
       "9                              Media         0.182718\n",
       "10            Intervalo de Confianza  0.1201 - 0.2453"
      ]
     },
     "metadata": {},
     "output_type": "display_data"
    },
    {
     "data": {
      "image/png": "[encoded data removed]",
      "text/plain": [
       "<Figure size 1000x500 with 1 Axes>"
      ]
     },
     "metadata": {},
     "output_type": "display_data"
    }
   ],
   "source": [
    "show_accuracy_table(accumulated_categories_accuracies, \"Accuracy por number of partitions\", [\"Number of partitions \" + str(i) for i in range(1, 10)], False)\n",
    "show_accuracy_graph(accumulated_categories_accuracies, \"Accuracy por number of partitions\", list(range(1, 10)), \"Number of partitions\", False)"
   ]
  },
  {
   "cell_type": "markdown",
   "metadata": {},
   "source": [
    "## Ejercicio 3\n",
    "\n",
    "Evaluación del método de suavizado para palabras desconocidas para el etiquetador tnt.\n",
    "\n",
    "El etiquetador tnt por defecto no incorpora un método de suavizado para las palabras desconocidas. \n",
    "Utiliza un método basado en los sufijos de las palabras para construir un modelo para las palabras \n",
    "desconocidas (Affix Tagger). En base al sufijo de la palabra desconocida le asigna una categoría \n",
    "morfosintáctica. Este método funciona razonablemente bien para el inglés.\n",
    "\n",
    "En concreto, se trata de estudiar diferentes longitudes del sufijo (número de letras que se tienen en \n",
    "cuenta) y estudiar cómo varían las prestaciones del etiquetador. Una vez se haya decidido el sufijo \n",
    "que mejores prestaciones proporciona, incorporarlo como modelo de suavizado al etiquetador tnt y \n",
    "comprobar si aumenta sus prestaciones."
   ]
  },
  {
   "cell_type": "code",
   "execution_count": 76,
   "metadata": {},
   "outputs": [],
   "source": [
    "def validate_tnt_suffixes(sentences, affix_length):\n",
    "    test_data, train_data = train_test_split(sentences, test_size=0.1)\n",
    "\n",
    "    if affix_length != 0:\n",
    "        tagger = AffixTagger(train_data, affix_length=affix_length)\n",
    "    else:\n",
    "        tagger = tnt.TnT()\n",
    "        tagger.train(train_data)\n",
    "    \n",
    "    accuracy = tagger.accuracy(test_data)\n",
    "\n",
    "    if affix_length != 0:\n",
    "        print(f\"Accuracy for {affix_length} affix length: {accuracy}\")\n",
    "    else:\n",
    "        print(f\"Accuracy for TnT: {accuracy}\")\n",
    "\n",
    "    return accuracy, tagger"
   ]
  },
  {
   "cell_type": "markdown",
   "metadata": {},
   "source": [
    "Evaluar diferentes longitudes de sufijo"
   ]
  },
  {
   "cell_type": "code",
   "execution_count": 77,
   "metadata": {},
   "outputs": [
    {
     "name": "stdout",
     "output_type": "stream",
     "text": [
      "Accuracy for TnT: 0.7556215822514075\n",
      "Accuracy for 1 affix length: 0.16543218402711835\n",
      "Accuracy for 2 affix length: 0.12234309045153785\n",
      "Accuracy for 3 affix length: 0.1294867957543803\n",
      "Accuracy for 4 affix length: 0.1111905489474807\n",
      "Accuracy for 5 affix length: 0.08734371927876663\n",
      "Accuracy for 6 affix length: 0.06037296976745525\n",
      "Accuracy for 7 affix length: 0.04280364139202581\n",
      "Accuracy for 8 affix length: 0.027578885420693394\n",
      "Accuracy for 9 affix length: 0.01736718953115521\n"
     ]
    }
   ],
   "source": [
    "suffix_lengths = range(10)\n",
    "\n",
    "suffix_accuracies = []\n",
    "suffix_models = []\n",
    "for suffix_length in suffix_lengths:\n",
    "    acc, model = validate_tnt_suffixes(cess_sents, suffix_length)\n",
    "    suffix_accuracies.append(acc)\n",
    "    suffix_models.append(model)"
   ]
  },
  {
   "cell_type": "markdown",
   "metadata": {},
   "source": [
    "Etiquetador TNT con el mejor sufijo encontrado"
   ]
  },
  {
   "cell_type": "code",
   "execution_count": 78,
   "metadata": {},
   "outputs": [
    {
     "name": "stdout",
     "output_type": "stream",
     "text": [
      "Best suffix length: 1\n"
     ]
    },
    {
     "data": {
      "text/html": [
       "<div>\n",
       "<style scoped>\n",
       "    .dataframe tbody tr th:only-of-type {\n",
       "        vertical-align: middle;\n",
       "    }\n",
       "\n",
       "    .dataframe tbody tr th {\n",
       "        vertical-align: top;\n",
       "    }\n",
       "\n",
       "    .dataframe thead th {\n",
       "        text-align: right;\n",
       "    }\n",
       "</style>\n",
       "<table border=\"1\" class=\"dataframe\">\n",
       "  <thead>\n",
       "    <tr style=\"text-align: right;\">\n",
       "      <th></th>\n",
       "      <th>Accuracy per suffix</th>\n",
       "      <th>Accuracy</th>\n",
       "    </tr>\n",
       "  </thead>\n",
       "  <tbody>\n",
       "    <tr>\n",
       "      <th>0</th>\n",
       "      <td>Base TNT</td>\n",
       "      <td>0.755622</td>\n",
       "    </tr>\n",
       "    <tr>\n",
       "      <th>1</th>\n",
       "      <td>1 suffixes</td>\n",
       "      <td>0.165432</td>\n",
       "    </tr>\n",
       "    <tr>\n",
       "      <th>2</th>\n",
       "      <td>2 suffixes</td>\n",
       "      <td>0.122343</td>\n",
       "    </tr>\n",
       "    <tr>\n",
       "      <th>3</th>\n",
       "      <td>3 suffixes</td>\n",
       "      <td>0.129487</td>\n",
       "    </tr>\n",
       "    <tr>\n",
       "      <th>4</th>\n",
       "      <td>4 suffixes</td>\n",
       "      <td>0.111191</td>\n",
       "    </tr>\n",
       "    <tr>\n",
       "      <th>5</th>\n",
       "      <td>5 suffixes</td>\n",
       "      <td>0.087344</td>\n",
       "    </tr>\n",
       "    <tr>\n",
       "      <th>6</th>\n",
       "      <td>6 suffixes</td>\n",
       "      <td>0.060373</td>\n",
       "    </tr>\n",
       "    <tr>\n",
       "      <th>7</th>\n",
       "      <td>7 suffixes</td>\n",
       "      <td>0.042804</td>\n",
       "    </tr>\n",
       "    <tr>\n",
       "      <th>8</th>\n",
       "      <td>8 suffixes</td>\n",
       "      <td>0.027579</td>\n",
       "    </tr>\n",
       "    <tr>\n",
       "      <th>9</th>\n",
       "      <td>9 suffixes</td>\n",
       "      <td>0.017367</td>\n",
       "    </tr>\n",
       "    <tr>\n",
       "      <th>10</th>\n",
       "      <td>Mean</td>\n",
       "      <td>0.151954</td>\n",
       "    </tr>\n",
       "  </tbody>\n",
       "</table>\n",
       "</div>"
      ],
      "text/plain": [
       "   Accuracy per suffix  Accuracy\n",
       "0             Base TNT  0.755622\n",
       "1           1 suffixes  0.165432\n",
       "2           2 suffixes  0.122343\n",
       "3           3 suffixes  0.129487\n",
       "4           4 suffixes  0.111191\n",
       "5           5 suffixes  0.087344\n",
       "6           6 suffixes  0.060373\n",
       "7           7 suffixes  0.042804\n",
       "8           8 suffixes  0.027579\n",
       "9           9 suffixes  0.017367\n",
       "10                Mean  0.151954"
      ]
     },
     "metadata": {},
     "output_type": "display_data"
    },
    {
     "data": {
      "image/png": "[encoded data removed]",
      "text/plain": [
       "<Figure size 1000x500 with 1 Axes>"
      ]
     },
     "metadata": {},
     "output_type": "display_data"
    }
   ],
   "source": [
    "best_sufix_length = np.argmax(suffix_accuracies[1:])\n",
    "best_suffix_model = suffix_models[best_sufix_length + 1]\n",
    "print(f\"Best suffix length: {best_sufix_length + 1}\")\n",
    "\n",
    "show_accuracy_table(suffix_accuracies, \"Accuracy per suffix\", ['Base TNT'] + [str(i) + ' suffixes' for i in range(1, len(suffix_accuracies))], True, False)\n",
    "show_accuracy_graph(suffix_accuracies[1:],  \"Accuracy per suffix\", [str(i) for i in range(1, len(suffix_accuracies))], \"Number of suffixes\", False)"
   ]
  },
  {
   "cell_type": "markdown",
   "metadata": {},
   "source": [
    "Validación del mejor número de sufijos"
   ]
  },
  {
   "cell_type": "code",
   "execution_count": 79,
   "metadata": {},
   "outputs": [],
   "source": [
    "def cross_validate_tnt_affix(sentences, num_partitions, affix_tagger):\n",
    "    partition_size = len(sentences) // num_partitions\n",
    "    partitions = [sentences[i * partition_size: (i + 1) * partition_size] for i in range(num_partitions)]\n",
    "\n",
    "    accuracies = []\n",
    "    for i in range(num_partitions):\n",
    "        test_data = partitions[i]\n",
    "        train_data = [sentence for part_idx, partitions in enumerate(partitions) if part_idx != i for sentence in partitions]\n",
    "\n",
    "        tnt_tagger = tnt.TnT(unk=affix_tagger, Trained=True)\n",
    "        tnt_tagger.train(train_data)\n",
    "        \n",
    "        accuracy = tnt_tagger.accuracy(test_data)\n",
    "        accuracies.append(accuracy)\n",
    "        print(f\"Accuracy for partition {i}: {accuracy}\")\n",
    "        \n",
    "    mean_acc = np.mean(accuracies)\n",
    "    conf_int = t.interval(0.95, len(accuracies) - 1, loc=mean_acc, scale=stats.sem(accuracies))\n",
    "    print(\"Mean accuracy: \", mean_acc)\n",
    "    print(\"Confidence interval: \", conf_int)\n",
    "\n",
    "    return accuracies"
   ]
  },
  {
   "cell_type": "code",
   "execution_count": 80,
   "metadata": {},
   "outputs": [],
   "source": [
    "def cross_validate_base_tnt(sentences, num_partitions):\n",
    "    partition_size = len(sentences) // num_partitions\n",
    "    partitions = [sentences[i * partition_size: (i + 1) * partition_size] for i in range(num_partitions)]\n",
    "\n",
    "    accuracies = []\n",
    "    for i in range(num_partitions):\n",
    "        test_data = partitions[i]\n",
    "        train_data = [sentence for part_idx, partitions in enumerate(partitions) if part_idx != i for sentence in partitions]\n",
    "\n",
    "        tnt_tagger = tnt.TnT()\n",
    "        tnt_tagger.train(train_data)\n",
    "        \n",
    "        accuracy = tnt_tagger.accuracy(test_data)\n",
    "        accuracies.append(accuracy)\n",
    "        print(f\"Accuracy for partition {i}: {accuracy}\")\n",
    "        \n",
    "    mean_acc = np.mean(accuracies)\n",
    "    conf_int = t.interval(0.95, len(accuracies) - 1, loc=mean_acc, scale=stats.sem(accuracies))\n",
    "    print(\"Mean accuracy: \", mean_acc)\n",
    "    print(\"Confidence interval: \", conf_int)\n",
    "\n",
    "    return accuracies"
   ]
  },
  {
   "cell_type": "markdown",
   "metadata": {},
   "source": [
    "Best affix tagger with TNT"
   ]
  },
  {
   "cell_type": "code",
   "execution_count": 81,
   "metadata": {},
   "outputs": [
    {
     "name": "stdout",
     "output_type": "stream",
     "text": [
      "Accuracy for partition 0: 0.9080366225839267\n",
      "Accuracy for partition 1: 0.9093619558735838\n",
      "Accuracy for partition 2: 0.9114793021575307\n",
      "Accuracy for partition 3: 0.9101868280972759\n",
      "Accuracy for partition 4: 0.9090708209037676\n",
      "Accuracy for partition 5: 0.9043232115285641\n",
      "Accuracy for partition 6: 0.9033637548891786\n",
      "Accuracy for partition 7: 0.9127219705254387\n",
      "Accuracy for partition 8: 0.9081149352699716\n",
      "Accuracy for partition 9: 0.9016140639457181\n",
      "Mean accuracy:  0.9078273465774955\n",
      "Confidence interval:  (0.9052404245094936, 0.9104142686454975)\n"
     ]
    }
   ],
   "source": [
    "best_affix_tnt_accuracies = cross_validate_tnt_affix(cess_sents, 10, best_suffix_model)"
   ]
  },
  {
   "cell_type": "code",
   "execution_count": 89,
   "metadata": {},
   "outputs": [
    {
     "data": {
      "text/html": [
       "<div>\n",
       "<style scoped>\n",
       "    .dataframe tbody tr th:only-of-type {\n",
       "        vertical-align: middle;\n",
       "    }\n",
       "\n",
       "    .dataframe tbody tr th {\n",
       "        vertical-align: top;\n",
       "    }\n",
       "\n",
       "    .dataframe thead th {\n",
       "        text-align: right;\n",
       "    }\n",
       "</style>\n",
       "<table border=\"1\" class=\"dataframe\">\n",
       "  <thead>\n",
       "    <tr style=\"text-align: right;\">\n",
       "      <th></th>\n",
       "      <th>Accuracy por fold</th>\n",
       "      <th>Accuracy</th>\n",
       "    </tr>\n",
       "  </thead>\n",
       "  <tbody>\n",
       "    <tr>\n",
       "      <th>0</th>\n",
       "      <td>Fold 0</td>\n",
       "      <td>0.908037</td>\n",
       "    </tr>\n",
       "    <tr>\n",
       "      <th>1</th>\n",
       "      <td>Fold 1</td>\n",
       "      <td>0.909362</td>\n",
       "    </tr>\n",
       "    <tr>\n",
       "      <th>2</th>\n",
       "      <td>Fold 2</td>\n",
       "      <td>0.911479</td>\n",
       "    </tr>\n",
       "    <tr>\n",
       "      <th>3</th>\n",
       "      <td>Fold 3</td>\n",
       "      <td>0.910187</td>\n",
       "    </tr>\n",
       "    <tr>\n",
       "      <th>4</th>\n",
       "      <td>Fold 4</td>\n",
       "      <td>0.909071</td>\n",
       "    </tr>\n",
       "    <tr>\n",
       "      <th>5</th>\n",
       "      <td>Fold 5</td>\n",
       "      <td>0.904323</td>\n",
       "    </tr>\n",
       "    <tr>\n",
       "      <th>6</th>\n",
       "      <td>Fold 6</td>\n",
       "      <td>0.903364</td>\n",
       "    </tr>\n",
       "    <tr>\n",
       "      <th>7</th>\n",
       "      <td>Fold 7</td>\n",
       "      <td>0.912722</td>\n",
       "    </tr>\n",
       "    <tr>\n",
       "      <th>8</th>\n",
       "      <td>Fold 8</td>\n",
       "      <td>0.908115</td>\n",
       "    </tr>\n",
       "    <tr>\n",
       "      <th>9</th>\n",
       "      <td>Fold 9</td>\n",
       "      <td>0.901614</td>\n",
       "    </tr>\n",
       "    <tr>\n",
       "      <th>10</th>\n",
       "      <td>Mean</td>\n",
       "      <td>0.907827</td>\n",
       "    </tr>\n",
       "    <tr>\n",
       "      <th>11</th>\n",
       "      <td>Confidence interval</td>\n",
       "      <td>0.9052 - 0.9104</td>\n",
       "    </tr>\n",
       "  </tbody>\n",
       "</table>\n",
       "</div>"
      ],
      "text/plain": [
       "      Accuracy por fold         Accuracy\n",
       "0                Fold 0         0.908037\n",
       "1                Fold 1         0.909362\n",
       "2                Fold 2         0.911479\n",
       "3                Fold 3         0.910187\n",
       "4                Fold 4         0.909071\n",
       "5                Fold 5         0.904323\n",
       "6                Fold 6         0.903364\n",
       "7                Fold 7         0.912722\n",
       "8                Fold 8         0.908115\n",
       "9                Fold 9         0.901614\n",
       "10                 Mean         0.907827\n",
       "11  Confidence interval  0.9052 - 0.9104"
      ]
     },
     "metadata": {},
     "output_type": "display_data"
    },
    {
     "data": {
      "image/png": "[encoded data removed]",
      "text/plain": [
       "<Figure size 1000x500 with 1 Axes>"
      ]
     },
     "metadata": {},
     "output_type": "display_data"
    }
   ],
   "source": [
    "show_accuracy_table(best_affix_tnt_accuracies, \"Accuracy por fold\", [\"Fold \" + str(i) for i in range(len(best_affix_tnt_accuracies))])\n",
    "show_accuracy_graph(best_affix_tnt_accuracies, \"Accuracy por fold\", list(range(len(best_affix_tnt_accuracies))), \"Fold iteration\")"
   ]
  },
  {
   "cell_type": "markdown",
   "metadata": {},
   "source": [
    "Base TNT tagger"
   ]
  },
  {
   "cell_type": "code",
   "execution_count": 83,
   "metadata": {},
   "outputs": [
    {
     "name": "stdout",
     "output_type": "stream",
     "text": [
      "Accuracy for partition 0: 0.895676500508647\n",
      "Accuracy for partition 1: 0.8976843569866826\n",
      "Accuracy for partition 2: 0.8997625683906266\n",
      "Accuracy for partition 3: 0.8966183070660683\n",
      "Accuracy for partition 4: 0.8975251353441609\n",
      "Accuracy for partition 5: 0.89233144621719\n",
      "Accuracy for partition 6: 0.8902737940026075\n",
      "Accuracy for partition 7: 0.9004842993282299\n",
      "Accuracy for partition 8: 0.894905799389538\n",
      "Accuracy for partition 9: 0.8878893800760769\n",
      "Mean accuracy:  0.8953151587309828\n",
      "Confidence interval:  (0.8924098252155673, 0.8982204922463982)\n"
     ]
    }
   ],
   "source": [
    "base_tnt_accuracies = cross_validate_base_tnt(cess_sents, 10)"
   ]
  },
  {
   "cell_type": "code",
   "execution_count": 94,
   "metadata": {},
   "outputs": [
    {
     "data": {
      "text/html": [
       "<div>\n",
       "<style scoped>\n",
       "    .dataframe tbody tr th:only-of-type {\n",
       "        vertical-align: middle;\n",
       "    }\n",
       "\n",
       "    .dataframe tbody tr th {\n",
       "        vertical-align: top;\n",
       "    }\n",
       "\n",
       "    .dataframe thead th {\n",
       "        text-align: right;\n",
       "    }\n",
       "</style>\n",
       "<table border=\"1\" class=\"dataframe\">\n",
       "  <thead>\n",
       "    <tr style=\"text-align: right;\">\n",
       "      <th></th>\n",
       "      <th>Accuracy por fold</th>\n",
       "      <th>Accuracy</th>\n",
       "    </tr>\n",
       "  </thead>\n",
       "  <tbody>\n",
       "    <tr>\n",
       "      <th>0</th>\n",
       "      <td>Fold 0</td>\n",
       "      <td>0.895677</td>\n",
       "    </tr>\n",
       "    <tr>\n",
       "      <th>1</th>\n",
       "      <td>Fold 1</td>\n",
       "      <td>0.897684</td>\n",
       "    </tr>\n",
       "    <tr>\n",
       "      <th>2</th>\n",
       "      <td>Fold 2</td>\n",
       "      <td>0.899763</td>\n",
       "    </tr>\n",
       "    <tr>\n",
       "      <th>3</th>\n",
       "      <td>Fold 3</td>\n",
       "      <td>0.896618</td>\n",
       "    </tr>\n",
       "    <tr>\n",
       "      <th>4</th>\n",
       "      <td>Fold 4</td>\n",
       "      <td>0.897525</td>\n",
       "    </tr>\n",
       "    <tr>\n",
       "      <th>5</th>\n",
       "      <td>Fold 5</td>\n",
       "      <td>0.892331</td>\n",
       "    </tr>\n",
       "    <tr>\n",
       "      <th>6</th>\n",
       "      <td>Fold 6</td>\n",
       "      <td>0.890274</td>\n",
       "    </tr>\n",
       "    <tr>\n",
       "      <th>7</th>\n",
       "      <td>Fold 7</td>\n",
       "      <td>0.900484</td>\n",
       "    </tr>\n",
       "    <tr>\n",
       "      <th>8</th>\n",
       "      <td>Fold 8</td>\n",
       "      <td>0.894906</td>\n",
       "    </tr>\n",
       "    <tr>\n",
       "      <th>9</th>\n",
       "      <td>Fold 9</td>\n",
       "      <td>0.887889</td>\n",
       "    </tr>\n",
       "    <tr>\n",
       "      <th>10</th>\n",
       "      <td>Mean</td>\n",
       "      <td>0.895315</td>\n",
       "    </tr>\n",
       "    <tr>\n",
       "      <th>11</th>\n",
       "      <td>Confidence interval</td>\n",
       "      <td>0.8924 - 0.8982</td>\n",
       "    </tr>\n",
       "  </tbody>\n",
       "</table>\n",
       "</div>"
      ],
      "text/plain": [
       "      Accuracy por fold         Accuracy\n",
       "0                Fold 0         0.895677\n",
       "1                Fold 1         0.897684\n",
       "2                Fold 2         0.899763\n",
       "3                Fold 3         0.896618\n",
       "4                Fold 4         0.897525\n",
       "5                Fold 5         0.892331\n",
       "6                Fold 6         0.890274\n",
       "7                Fold 7         0.900484\n",
       "8                Fold 8         0.894906\n",
       "9                Fold 9         0.887889\n",
       "10                 Mean         0.895315\n",
       "11  Confidence interval  0.8924 - 0.8982"
      ]
     },
     "metadata": {},
     "output_type": "display_data"
    },
    {
     "data": {
      "image/png": "[encoded data removed]",
      "text/plain": [
       "<Figure size 1000x500 with 1 Axes>"
      ]
     },
     "metadata": {},
     "output_type": "display_data"
    }
   ],
   "source": [
    "show_accuracy_table(base_tnt_accuracies, \"Accuracy por fold\", [\"Fold \" + str(i) for i in range(len(base_tnt_accuracies))])\n",
    "show_accuracy_graph(base_tnt_accuracies, \"Accuracy por fold\", list(range(len(base_tnt_accuracies))), \"Fold iteration\")"
   ]
  },
  {
   "cell_type": "markdown",
   "metadata": {},
   "source": [
    "Comparación"
   ]
  },
  {
   "cell_type": "code",
   "execution_count": 85,
   "metadata": {},
   "outputs": [],
   "source": [
    "def show_comparison_accuracy_graph(accuracies1, accuracies2, title, labels, x_label):\n",
    "    plt.figure(figsize=(10, 5))\n",
    "\n",
    "    acc_mean1 = np.mean(accuracies1)\n",
    "    conf_int1 = stats.t.interval(0.95, len(accuracies1) - 1, loc=acc_mean1, scale=stats.sem(accuracies1))\n",
    "    error_y1 = (conf_int1[1] - conf_int1[0]) / 2\n",
    "\n",
    "    acc_mean2 = np.mean(accuracies2)\n",
    "    conf_int2 = stats.t.interval(0.95, len(accuracies2) - 1, loc=acc_mean2, scale=stats.sem(accuracies2))\n",
    "    error_y2 = (conf_int2[1] - conf_int2[0]) / 2\n",
    "\n",
    "    min_acc = min(min(accuracies1), min(accuracies2))\n",
    "    max_acc = max(max(accuracies1), max(accuracies2))\n",
    "    plt.ylim(max(0, min_acc - 0.1), min(1, max_acc + 0.1))\n",
    "    \n",
    "    x = list(range(len(accuracies1)))\n",
    "    plt.plot(x, accuracies1, 'ro-', label='Accuracy 1')\n",
    "    plt.plot(x, accuracies2, 'bo-', label='Accuracy 2')\n",
    "    \n",
    "    plt.xticks(x, labels)\n",
    "    plt.xlabel(x_label)\n",
    "    plt.ylabel('Accuracy')\n",
    "    plt.title(title)\n",
    "    \n",
    "    plt.errorbar(x, accuracies1, yerr=error_y1, linestyle='None', color='red', capsize=5)\n",
    "    plt.errorbar(x, accuracies2, yerr=error_y2, linestyle='None', color='blue', capsize=5)\n",
    "\n",
    "    plt.legend()\n",
    "    plt.grid(True)\n",
    "    plt.show()"
   ]
  },
  {
   "cell_type": "code",
   "execution_count": 86,
   "metadata": {},
   "outputs": [
    {
     "data": {
      "image/png": "[encoded data removed]",
      "text/plain": [
       "<Figure size 1000x500 with 1 Axes>"
      ]
     },
     "metadata": {},
     "output_type": "display_data"
    }
   ],
   "source": [
    "show_comparison_accuracy_graph(best_affix_tnt_accuracies, base_tnt_accuracies, \"Accuracy por fold\", list(range(len(best_affix_tnt_accuracies))), \"Fold iteration\")"
   ]
  },
  {
   "cell_type": "markdown",
   "metadata": {},
   "source": [
    "## Ejercicio 4\n",
    "\n",
    "Evaluación del resto de etiquetadores.\n",
    "\n",
    "\n",
    "Se deberán utilizar otros paradigmas de etiquetado. Como mínimo el etiquetador de Brill y algún otro \n",
    "como, CRF, perceptron. Se deberá realizar una comparativa de prestaciones respecto a los\n",
    "etiquetadores tnt y hmm, utilizando el juego de categorías reducido. \n",
    "\n",
    "Cuando se utilice el etiquetador de Brill, probar con diferentes etiquetados iniciales, por ejemplo \n",
    "probar con Unigram Tagger y con hmm tagger.\n",
    "\n",
    "La comparación puede ser sólo de una partición, si el coste temporal de la validación cruzada \n",
    "requiere mucho tiempo"
   ]
  },
  {
   "cell_type": "code",
   "execution_count": 90,
   "metadata": {},
   "outputs": [],
   "source": [
    "templates = brill.fntbl37()"
   ]
  },
  {
   "cell_type": "markdown",
   "metadata": {},
   "source": [
    "### Brill"
   ]
  },
  {
   "cell_type": "markdown",
   "metadata": {},
   "source": [
    "#### Unigram Tagger"
   ]
  },
  {
   "cell_type": "markdown",
   "metadata": {},
   "source": [
    "Una sola partición"
   ]
  },
  {
   "cell_type": "code",
   "execution_count": 98,
   "metadata": {},
   "outputs": [],
   "source": [
    "def validate_unigram_bill(sentences):\n",
    "    test_data, train_data = train_test_split(sentences, test_size=0.1)\n",
    "\n",
    "    unigram_tagger = UnigramTagger(train_data)\n",
    "    brill_tagger_unigram = brill_trainer.BrillTaggerTrainer(unigram_tagger, templates, deterministic=True)\n",
    "    brill_tagger_unigram = brill_tagger_unigram.train(train_data)\n",
    "\n",
    "    accuracy = brill_tagger_unigram.accuracy(test_data)\n",
    "    print(f\"Accuracy: {acc}\")\n",
    "\n",
    "    return accuracy"
   ]
  },
  {
   "cell_type": "code",
   "execution_count": 99,
   "metadata": {},
   "outputs": [
    {
     "name": "stdout",
     "output_type": "stream",
     "text": [
      "Accuracy: 0.01736718953115521\n"
     ]
    }
   ],
   "source": [
    "unigram_bill_accuracy = validate_unigram_bill(reduced_cess_sents)"
   ]
  },
  {
   "cell_type": "markdown",
   "metadata": {},
   "source": [
    "Múltiples particiones"
   ]
  },
  {
   "cell_type": "code",
   "execution_count": 100,
   "metadata": {},
   "outputs": [],
   "source": [
    "def cross_validate_unigram_bill(sentences, num_partitions):\n",
    "    partition_size = len(sentences) // num_partitions\n",
    "    partitions = [sentences[i * partition_size: (i + 1) * partition_size] for i in range(num_partitions)]\n",
    "\n",
    "    accuracies = []\n",
    "    for i in range(num_partitions):\n",
    "        test_data = partitions[i]\n",
    "        train_data = [sentence for part_idx, partitions in enumerate(partitions) if part_idx != i for sentence in partitions]\n",
    "\n",
    "        unigram_tagger = UnigramTagger(train_data)\n",
    "        brill_tagger_unigram = brill_trainer.BrillTaggerTrainer(unigram_tagger, templates, deterministic=True)\n",
    "        brill_tagger_unigram = brill_tagger_unigram.train(train_data)\n",
    "\n",
    "        acc = brill_tagger_unigram.accuracy(test_data)\n",
    "        accuracies.append(acc)\n",
    "        print(f\"Accuracy for partition {i}: {acc}\")\n",
    "\n",
    "    mean_acc = np.mean(accuracies)\n",
    "    conf_int = t.interval(0.95, len(accuracies) - 1, loc=mean_acc, scale=stats.sem(accuracies))\n",
    "    print(\"Mean accuracy: \", mean_acc)\n",
    "    print(\"Confidence interval: \", conf_int)\n",
    "    \n",
    "    return accuracies"
   ]
  },
  {
   "cell_type": "code",
   "execution_count": 101,
   "metadata": {},
   "outputs": [
    {
     "name": "stdout",
     "output_type": "stream",
     "text": [
      "Accuracy for partition 0: 0.9024923702950153\n",
      "Accuracy for partition 1: 0.9046909163188233\n",
      "Accuracy for partition 2: 0.9053370496541757\n",
      "Accuracy for partition 3: 0.9043419267299865\n",
      "Accuracy for partition 4: 0.9032151143520053\n",
      "Accuracy for partition 5: 0.8990221307256819\n",
      "Accuracy for partition 6: 0.8977314211212516\n",
      "Accuracy for partition 7: 0.9076186012602198\n",
      "Accuracy for partition 8: 0.9025892011367225\n",
      "Accuracy for partition 9: 0.8954456667009355\n",
      "Mean accuracy:  0.9022484398294817\n",
      "Confidence interval:  (0.8995619928283008, 0.9049348868306625)\n"
     ]
    }
   ],
   "source": [
    "unigram_bill_accuracies = cross_validate_unigram_bill(reduced_cess_sents, 10)"
   ]
  },
  {
   "cell_type": "code",
   "execution_count": 102,
   "metadata": {},
   "outputs": [
    {
     "data": {
      "text/html": [
       "<div>\n",
       "<style scoped>\n",
       "    .dataframe tbody tr th:only-of-type {\n",
       "        vertical-align: middle;\n",
       "    }\n",
       "\n",
       "    .dataframe tbody tr th {\n",
       "        vertical-align: top;\n",
       "    }\n",
       "\n",
       "    .dataframe thead th {\n",
       "        text-align: right;\n",
       "    }\n",
       "</style>\n",
       "<table border=\"1\" class=\"dataframe\">\n",
       "  <thead>\n",
       "    <tr style=\"text-align: right;\">\n",
       "      <th></th>\n",
       "      <th>Accuracy por fold</th>\n",
       "      <th>Accuracy</th>\n",
       "    </tr>\n",
       "  </thead>\n",
       "  <tbody>\n",
       "    <tr>\n",
       "      <th>0</th>\n",
       "      <td>Fold 0</td>\n",
       "      <td>0.902492</td>\n",
       "    </tr>\n",
       "    <tr>\n",
       "      <th>1</th>\n",
       "      <td>Fold 1</td>\n",
       "      <td>0.904691</td>\n",
       "    </tr>\n",
       "    <tr>\n",
       "      <th>2</th>\n",
       "      <td>Fold 2</td>\n",
       "      <td>0.905337</td>\n",
       "    </tr>\n",
       "    <tr>\n",
       "      <th>3</th>\n",
       "      <td>Fold 3</td>\n",
       "      <td>0.904342</td>\n",
       "    </tr>\n",
       "    <tr>\n",
       "      <th>4</th>\n",
       "      <td>Fold 4</td>\n",
       "      <td>0.903215</td>\n",
       "    </tr>\n",
       "    <tr>\n",
       "      <th>5</th>\n",
       "      <td>Fold 5</td>\n",
       "      <td>0.899022</td>\n",
       "    </tr>\n",
       "    <tr>\n",
       "      <th>6</th>\n",
       "      <td>Fold 6</td>\n",
       "      <td>0.897731</td>\n",
       "    </tr>\n",
       "    <tr>\n",
       "      <th>7</th>\n",
       "      <td>Fold 7</td>\n",
       "      <td>0.907619</td>\n",
       "    </tr>\n",
       "    <tr>\n",
       "      <th>8</th>\n",
       "      <td>Fold 8</td>\n",
       "      <td>0.902589</td>\n",
       "    </tr>\n",
       "    <tr>\n",
       "      <th>9</th>\n",
       "      <td>Fold 9</td>\n",
       "      <td>0.895446</td>\n",
       "    </tr>\n",
       "    <tr>\n",
       "      <th>10</th>\n",
       "      <td>Mean</td>\n",
       "      <td>0.902248</td>\n",
       "    </tr>\n",
       "    <tr>\n",
       "      <th>11</th>\n",
       "      <td>Confidence interval</td>\n",
       "      <td>0.8996 - 0.9049</td>\n",
       "    </tr>\n",
       "  </tbody>\n",
       "</table>\n",
       "</div>"
      ],
      "text/plain": [
       "      Accuracy por fold         Accuracy\n",
       "0                Fold 0         0.902492\n",
       "1                Fold 1         0.904691\n",
       "2                Fold 2         0.905337\n",
       "3                Fold 3         0.904342\n",
       "4                Fold 4         0.903215\n",
       "5                Fold 5         0.899022\n",
       "6                Fold 6         0.897731\n",
       "7                Fold 7         0.907619\n",
       "8                Fold 8         0.902589\n",
       "9                Fold 9         0.895446\n",
       "10                 Mean         0.902248\n",
       "11  Confidence interval  0.8996 - 0.9049"
      ]
     },
     "metadata": {},
     "output_type": "display_data"
    },
    {
     "data": {
      "image/png": "[encoded data removed]",
      "text/plain": [
       "<Figure size 1000x500 with 1 Axes>"
      ]
     },
     "metadata": {},
     "output_type": "display_data"
    }
   ],
   "source": [
    "show_accuracy_table(unigram_bill_accuracies, \"Accuracy por fold\", [\"Fold \" + str(i) for i in range(len(unigram_bill_accuracies))])\n",
    "show_accuracy_graph(unigram_bill_accuracies, \"Accuracy por fold\", list(range(len(unigram_bill_accuracies))), \"Fold iteration\")"
   ]
  },
  {
   "cell_type": "markdown",
   "metadata": {},
   "source": [
    "#### HNN Tagger"
   ]
  },
  {
   "cell_type": "code",
   "execution_count": null,
   "metadata": {},
   "outputs": [],
   "source": [
    "def validate_hnn_bill(sentences):\n",
    "    test_data, train_data = train_test_split(sentences, test_size=0.1)\n",
    "\n",
    "    hmm_tagger = hmm.HiddenMarkovModelTagger.train(train_data)\n",
    "    brill_tagger_hmm = brill_trainer.BrillTaggerTrainer(hmm_tagger, templates, deterministic=True)\n",
    "    brill_tagger_hmm = brill_tagger_hmm.train(train_data)\n",
    "\n",
    "    accuracy = brill_tagger_hmm.accuracy(test_data)\n",
    "    print(f\"Accuracy: {accuracy}\")"
   ]
  },
  {
   "cell_type": "markdown",
   "metadata": {},
   "source": [
    "Una sola partición"
   ]
  },
  {
   "cell_type": "code",
   "execution_count": null,
   "metadata": {},
   "outputs": [],
   "source": [
    "hnn_bill_accuracy = validate_hnn_bill(reduced_cess_sents)"
   ]
  },
  {
   "cell_type": "markdown",
   "metadata": {},
   "source": [
    "Múltiples particiones"
   ]
  },
  {
   "cell_type": "code",
   "execution_count": null,
   "metadata": {},
   "outputs": [],
   "source": [
    "def cross_validate_hnn_bill(sentences, num_partitions):\n",
    "    partition_size = len(sentences) // num_partitions\n",
    "    partitions = [sentences[i * partition_size: (i + 1) * partition_size] for i in range(num_partitions)]\n",
    "\n",
    "    accuracies = []\n",
    "    for i in range(num_partitions):\n",
    "        test_data = partitions[i]\n",
    "        train_data = [sentence for part_idx, partitions in enumerate(partitions) if part_idx != i for sentence in partitions]\n",
    "\n",
    "        hmm_tagger = hmm.HiddenMarkovModelTagger.train(train_data)\n",
    "        brill_tagger_hmm = brill_trainer.BrillTaggerTrainer(hmm_tagger, templates, deterministic=True)\n",
    "        brill_tagger_hmm = brill_tagger_hmm.train(train_data)\n",
    "\n",
    "        acc = brill_tagger_hmm.accuracy(test_data)\n",
    "        accuracies.append(acc)\n",
    "        print(f\"Accuracy for partition {i}: {acc}\")\n",
    "\n",
    "    if num_partitions != 1:\n",
    "        mean_acc = np.mean(accuracies)\n",
    "        conf_int = t.interval(0.95, len(accuracies) - 1, loc=mean_acc, scale=stats.sem(accuracies))\n",
    "        print(\"Mean accuracy: \", mean_acc)\n",
    "        print(\"Confidence interval: \", conf_int)\n",
    "        return accuracies\n",
    "    else:\n",
    "        return accuracies[0]"
   ]
  },
  {
   "cell_type": "code",
   "execution_count": null,
   "metadata": {},
   "outputs": [],
   "source": [
    "hnn_bill_accuracies = cross_validate_hnn_bill(reduced_cess_sents, 10)"
   ]
  },
  {
   "cell_type": "code",
   "execution_count": null,
   "metadata": {},
   "outputs": [],
   "source": [
    "show_accuracy_table(hnn_bill_accuracies, \"Accuracy por fold\", [\"Fold \" + str(i) for i in range(len(hnn_bill_accuracies))])\n",
    "show_accuracy_graph(hnn_bill_accuracies, \"Accuracy por fold\", list(range(len(hnn_bill_accuracies))), \"Fold iteration\")"
   ]
  },
  {
   "cell_type": "markdown",
   "metadata": {},
   "source": [
    "### Perceptron"
   ]
  },
  {
   "cell_type": "code",
   "execution_count": null,
   "metadata": {},
   "outputs": [],
   "source": [
    "def cross_validate_perceptron(sentences, num_partitions):\n",
    "    partition_size = len(sentences) // num_partitions\n",
    "    partitions = [sentences[i * partition_size: (i + 1) * partition_size] for i in range(num_partitions)]\n",
    "\n",
    "    accuracies = []\n",
    "    for i in range(num_partitions):\n",
    "        test_data = partitions[i]\n",
    "        train_data = [sentence for part_idx, partitions in enumerate(partitions) if part_idx != i for sentence in partitions]\n",
    "\n",
    "        perceptron_tagger = PerceptronTagger(load=False)\n",
    "        perceptron_tagger.train(train_data)\n",
    "\n",
    "        acc = perceptron_tagger.accuracy(test_data)\n",
    "        accuracies.append(acc)\n",
    "        print(f\"Accuracy for partition {i}: {acc}\")\n",
    "\n",
    "    if num_partitions != 1:\n",
    "        mean_acc = np.mean(accuracies)\n",
    "        conf_int = t.interval(0.95, len(accuracies) - 1, loc=mean_acc, scale=stats.sem(accuracies))\n",
    "        print(\"Mean accuracy: \", mean_acc)\n",
    "        print(\"Confidence interval: \", conf_int)\n",
    "        return accuracies\n",
    "    else:\n",
    "        return accuracies[0]"
   ]
  },
  {
   "cell_type": "markdown",
   "metadata": {},
   "source": [
    "Una partición"
   ]
  },
  {
   "cell_type": "code",
   "execution_count": null,
   "metadata": {},
   "outputs": [
    {
     "name": "stdout",
     "output_type": "stream",
     "text": [
      "Precisión del etiquetador Perceptron: 0.9680\n"
     ]
    }
   ],
   "source": [
    "perceptron_accuracy = cross_validate_perceptron(reduced_cess_sents, 1)"
   ]
  },
  {
   "cell_type": "markdown",
   "metadata": {},
   "source": [
    "Múltiples particiones"
   ]
  },
  {
   "cell_type": "code",
   "execution_count": null,
   "metadata": {},
   "outputs": [],
   "source": [
    "perceptron_accuracies = cross_validate_perceptron(reduced_cess_sents, 10)"
   ]
  },
  {
   "cell_type": "code",
   "execution_count": null,
   "metadata": {},
   "outputs": [],
   "source": [
    "show_accuracy_table(perceptron_accuracies, \"Accuracy por fold\", [\"Fold \" + str(i) for i in range(len(perceptron_accuracies))])\n",
    "show_accuracy_graph(perceptron_accuracies, \"Accuracy por fold\", list(range(len(perceptron_accuracies))), \"Fold iteration\")"
   ]
  }
 ],
 "metadata": {
  "kernelspec": {
   "display_name": "Python 3",
   "language": "python",
   "name": "python3"
  },
  "language_info": {
   "codemirror_mode": {
    "name": "ipython",
    "version": 3
   },
   "file_extension": ".py",
   "mimetype": "text/x-python",
   "name": "python",
   "nbconvert_exporter": "python",
   "pygments_lexer": "ipython3",
   "version": "3.10.12"
  }
 },
 "nbformat": 4,
 "nbformat_minor": 2
}
