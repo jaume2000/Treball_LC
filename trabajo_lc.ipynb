{
 "cells": [
  {
   "cell_type": "markdown",
   "metadata": {},
   "source": [
    "# Trabajo LC\n",
    "\n",
    "Jaume Ivars Grimalt y Iñaki Diez Lambies"
   ]
  },
  {
   "cell_type": "markdown",
   "metadata": {},
   "source": [
    "#### Importaciones necesarias"
   ]
  },
  {
   "cell_type": "code",
   "execution_count": 24,
   "metadata": {},
   "outputs": [
    {
     "name": "stderr",
     "output_type": "stream",
     "text": [
      "[nltk_data] Downloading package cess_esp to\n",
      "[nltk_data]     C:\\Users\\NachoDíez\\AppData\\Roaming\\nltk_data...\n",
      "[nltk_data]   Package cess_esp is already up-to-date!\n"
     ]
    }
   ],
   "source": [
    "import nltk\n",
    "from nltk.corpus import cess_esp\n",
    "from nltk.tag import hmm, tnt, AffixTagger, brill, brill_trainer, UnigramTagger, PerceptronTagger\n",
    "import numpy as np\n",
    "import matplotlib.pyplot as plt\n",
    "import pandas as pd\n",
    "from scipy.stats import t\n",
    "import scipy.stats as stats\n",
    "from IPython.display import display\n",
    "from sklearn.model_selection import train_test_split\n",
    "\n",
    "nltk.download(\"cess_esp\")\n",
    "cess_sents = list(cess_esp.tagged_sents())\n",
    "np.random.shuffle(cess_sents)"
   ]
  },
  {
   "cell_type": "markdown",
   "metadata": {},
   "source": [
    "## Ejercicio 1\n",
    "\n",
    "Evaluación del etiquetador ‘hmm’ sobre el corpus ‘cess-esp’ utilizando el juego de\n",
    "categorías completo y reducido.\n",
    "\n",
    "Utilizando el etiquetador hmm basado en modelos de Markov, se realizará una validación cruzada\n",
    "sobre 10 particiones del corpus. Barajar el corpus antes de realizar las particiones. Presentar los\n",
    "resultados en forma de tabla y gráficamente, incluyendo los intervalos de confianza."
   ]
  },
  {
   "cell_type": "code",
   "execution_count": 2,
   "metadata": {},
   "outputs": [],
   "source": [
    "def show_accuracy_table(accuracies, title, labels):\n",
    "    mean_acc = np.mean(accuracies)\n",
    "    conf_int = stats.t.interval(0.95, len(accuracies) - 1, loc=mean_acc, scale=stats.sem(accuracies))\n",
    "    \n",
    "    data = {\n",
    "        title: labels + [\"Media\", \"Intervalo de Confianza\"],\n",
    "        \"Accuracy\": accuracies + [mean_acc, f\"{conf_int[0]:.4f} - {conf_int[1]:.4f}\"]\n",
    "    }\n",
    "    df = pd.DataFrame(data)\n",
    "    display(df)"
   ]
  },
  {
   "cell_type": "code",
   "execution_count": 3,
   "metadata": {},
   "outputs": [],
   "source": [
    "def show_accuracy_graph(accuracies, title, labels, x_label):\n",
    "    plt.figure(figsize=(10, 5))\n",
    "\n",
    "    acc_mean = np.mean(accuracies)\n",
    "    plt.ylim(max(0, min(accuracies - acc_mean / 2.0)), min(1, max(accuracies + acc_mean / 2.0)))\n",
    "    \n",
    "    x = list(range(len(accuracies)))\n",
    "    plt.plot(x, accuracies, 'ro-')\n",
    "    \n",
    "    plt.xticks(x, labels)\n",
    "    plt.xlabel(x_label)\n",
    "    plt.ylabel('Accuracy')\n",
    "    plt.title(title)\n",
    "    \n",
    "    conf_int = stats.t.interval(0.95, len(accuracies) - 1, loc=acc_mean, scale=stats.sem(accuracies))\n",
    "    error_y = (conf_int[1] - conf_int[0]) / 2\n",
    "    plt.errorbar(x, accuracies, yerr=error_y, linestyle='None', color='blue', capsize=5)\n",
    "    \n",
    "    plt.grid(True)\n",
    "    plt.show()\n"
   ]
  },
  {
   "cell_type": "code",
   "execution_count": 4,
   "metadata": {},
   "outputs": [],
   "source": [
    "def cross_validate_hmm(sentences, num_partitions):\n",
    "    partition_size = len(sentences) // num_partitions\n",
    "    partitions = [sentences[i * partition_size: (i + 1) * partition_size] for i in range(num_partitions)]\n",
    "\n",
    "    accuracies = []\n",
    "    for i in range(num_partitions):\n",
    "        test_data = partitions[i]\n",
    "        train_data = [sentence for part_idx, partitions in enumerate(partitions) if part_idx != i for sentence in partitions]\n",
    "\n",
    "        trainer = hmm.HiddenMarkovModelTrainer()\n",
    "        hmm_tagger = trainer.train(train_data)\n",
    "        acc = hmm_tagger.accuracy(test_data)\n",
    "        accuracies.append(acc)\n",
    "        print(f\"Accuracy for partition {i}: {acc}\")\n",
    "\n",
    "    mean_acc = np.mean(accuracies)\n",
    "    conf_int = t.interval(0.95, len(accuracies) - 1, loc=mean_acc, scale=stats.sem(accuracies))\n",
    "    print(\"Mean accuracy: \", mean_acc)\n",
    "    print(\"Confidence interval: \", conf_int)\n",
    "\n",
    "    return accuracies"
   ]
  },
  {
   "cell_type": "markdown",
   "metadata": {},
   "source": [
    "### Con todas las categorías"
   ]
  },
  {
   "cell_type": "markdown",
   "metadata": {},
   "source": [
    "Realizar experimentos"
   ]
  },
  {
   "cell_type": "code",
   "execution_count": 5,
   "metadata": {},
   "outputs": [
    {
     "name": "stderr",
     "output_type": "stream",
     "text": [
      "c:\\MUIARFID\\LC\\Treball_LC\\.venv\\Lib\\site-packages\\nltk\\tag\\hmm.py:334: RuntimeWarning: overflow encountered in cast\n",
      "  X[i, j] = self._transitions[si].logprob(self._states[j])\n",
      "c:\\MUIARFID\\LC\\Treball_LC\\.venv\\Lib\\site-packages\\nltk\\tag\\hmm.py:336: RuntimeWarning: overflow encountered in cast\n",
      "  O[i, k] = self._output_logprob(si, self._symbols[k])\n",
      "c:\\MUIARFID\\LC\\Treball_LC\\.venv\\Lib\\site-packages\\nltk\\tag\\hmm.py:332: RuntimeWarning: overflow encountered in cast\n",
      "  P[i] = self._priors.logprob(si)\n",
      "c:\\MUIARFID\\LC\\Treball_LC\\.venv\\Lib\\site-packages\\nltk\\tag\\hmm.py:364: RuntimeWarning: overflow encountered in cast\n",
      "  O[i, k] = self._output_logprob(si, self._symbols[k])\n"
     ]
    },
    {
     "name": "stdout",
     "output_type": "stream",
     "text": [
      "Accuracy for partition 0: 0.2990722784213009\n",
      "Accuracy for partition 1: 0.2693022800665427\n",
      "Accuracy for partition 2: 0.26768037554852536\n",
      "Accuracy for partition 3: 0.2661481405171526\n",
      "Accuracy for partition 4: 0.27902748194711413\n",
      "Accuracy for partition 5: 0.26968493225227186\n",
      "Accuracy for partition 6: 0.2890356808488505\n",
      "Accuracy for partition 7: 0.2777892775822811\n",
      "Accuracy for partition 8: 0.28216321709208564\n",
      "Accuracy for partition 9: 0.2863317125877904\n",
      "Mean accuracy:  0.27862353768639153\n",
      "Confidence interval:  (0.27092798690672604, 0.286319088466057)\n"
     ]
    }
   ],
   "source": [
    "all_categories_accuracies = cross_validate_hmm(cess_sents, 10)"
   ]
  },
  {
   "cell_type": "markdown",
   "metadata": {},
   "source": [
    "Mostrar resultados"
   ]
  },
  {
   "cell_type": "code",
   "execution_count": 6,
   "metadata": {},
   "outputs": [
    {
     "data": {
      "text/html": [
       "<div>\n",
       "<style scoped>\n",
       "    .dataframe tbody tr th:only-of-type {\n",
       "        vertical-align: middle;\n",
       "    }\n",
       "\n",
       "    .dataframe tbody tr th {\n",
       "        vertical-align: top;\n",
       "    }\n",
       "\n",
       "    .dataframe thead th {\n",
       "        text-align: right;\n",
       "    }\n",
       "</style>\n",
       "<table border=\"1\" class=\"dataframe\">\n",
       "  <thead>\n",
       "    <tr style=\"text-align: right;\">\n",
       "      <th></th>\n",
       "      <th>Accuracy por fold</th>\n",
       "      <th>Accuracy</th>\n",
       "    </tr>\n",
       "  </thead>\n",
       "  <tbody>\n",
       "    <tr>\n",
       "      <th>0</th>\n",
       "      <td>Fold 0</td>\n",
       "      <td>0.299072</td>\n",
       "    </tr>\n",
       "    <tr>\n",
       "      <th>1</th>\n",
       "      <td>Fold 1</td>\n",
       "      <td>0.269302</td>\n",
       "    </tr>\n",
       "    <tr>\n",
       "      <th>2</th>\n",
       "      <td>Fold 2</td>\n",
       "      <td>0.26768</td>\n",
       "    </tr>\n",
       "    <tr>\n",
       "      <th>3</th>\n",
       "      <td>Fold 3</td>\n",
       "      <td>0.266148</td>\n",
       "    </tr>\n",
       "    <tr>\n",
       "      <th>4</th>\n",
       "      <td>Fold 4</td>\n",
       "      <td>0.279027</td>\n",
       "    </tr>\n",
       "    <tr>\n",
       "      <th>5</th>\n",
       "      <td>Fold 5</td>\n",
       "      <td>0.269685</td>\n",
       "    </tr>\n",
       "    <tr>\n",
       "      <th>6</th>\n",
       "      <td>Fold 6</td>\n",
       "      <td>0.289036</td>\n",
       "    </tr>\n",
       "    <tr>\n",
       "      <th>7</th>\n",
       "      <td>Fold 7</td>\n",
       "      <td>0.277789</td>\n",
       "    </tr>\n",
       "    <tr>\n",
       "      <th>8</th>\n",
       "      <td>Fold 8</td>\n",
       "      <td>0.282163</td>\n",
       "    </tr>\n",
       "    <tr>\n",
       "      <th>9</th>\n",
       "      <td>Fold 9</td>\n",
       "      <td>0.286332</td>\n",
       "    </tr>\n",
       "    <tr>\n",
       "      <th>10</th>\n",
       "      <td>Media</td>\n",
       "      <td>0.278624</td>\n",
       "    </tr>\n",
       "    <tr>\n",
       "      <th>11</th>\n",
       "      <td>Intervalo de Confianza</td>\n",
       "      <td>0.2709 - 0.2863</td>\n",
       "    </tr>\n",
       "  </tbody>\n",
       "</table>\n",
       "</div>"
      ],
      "text/plain": [
       "         Accuracy por fold         Accuracy\n",
       "0                   Fold 0         0.299072\n",
       "1                   Fold 1         0.269302\n",
       "2                   Fold 2          0.26768\n",
       "3                   Fold 3         0.266148\n",
       "4                   Fold 4         0.279027\n",
       "5                   Fold 5         0.269685\n",
       "6                   Fold 6         0.289036\n",
       "7                   Fold 7         0.277789\n",
       "8                   Fold 8         0.282163\n",
       "9                   Fold 9         0.286332\n",
       "10                   Media         0.278624\n",
       "11  Intervalo de Confianza  0.2709 - 0.2863"
      ]
     },
     "metadata": {},
     "output_type": "display_data"
    },
    {
     "data": {
      "image/png": "[encoded data removed]",
      "text/plain": [
       "<Figure size 1000x500 with 1 Axes>"
      ]
     },
     "metadata": {},
     "output_type": "display_data"
    }
   ],
   "source": [
    "show_accuracy_table(all_categories_accuracies, \"Accuracy por fold\", [\"Fold \" + str(i) for i in range(10)])\n",
    "show_accuracy_graph(all_categories_accuracies, \"Accuracy por fold\", list(range(10)), \"Fold iteration\")"
   ]
  },
  {
   "cell_type": "markdown",
   "metadata": {},
   "source": [
    "### Juego de categorías reducido\n",
    "Preprocesado para reducir las categorías"
   ]
  },
  {
   "cell_type": "code",
   "execution_count": 15,
   "metadata": {},
   "outputs": [],
   "source": [
    "reduced_cess_sents = []\n",
    "for sentence in cess_sents:\n",
    "    new_line = []\n",
    "    for word, key in sentence:\n",
    "        if word == \"*0*\" and key == \"sn\":\n",
    "            continue\n",
    "        elif key[0] == 'v' or key[0] == 'F':\n",
    "            key = key[:3]\n",
    "        else:\n",
    "            key = key[:2]\n",
    "        new_line.append((word,key))\n",
    "    reduced_cess_sents.append(new_line)"
   ]
  },
  {
   "cell_type": "markdown",
   "metadata": {},
   "source": [
    "Realizar experimento"
   ]
  },
  {
   "cell_type": "code",
   "execution_count": 16,
   "metadata": {},
   "outputs": [
    {
     "name": "stderr",
     "output_type": "stream",
     "text": [
      "c:\\MUIARFID\\LC\\Treball_LC\\.venv\\Lib\\site-packages\\nltk\\tag\\hmm.py:334: RuntimeWarning: overflow encountered in cast\n",
      "  X[i, j] = self._transitions[si].logprob(self._states[j])\n",
      "c:\\MUIARFID\\LC\\Treball_LC\\.venv\\Lib\\site-packages\\nltk\\tag\\hmm.py:336: RuntimeWarning: overflow encountered in cast\n",
      "  O[i, k] = self._output_logprob(si, self._symbols[k])\n",
      "c:\\MUIARFID\\LC\\Treball_LC\\.venv\\Lib\\site-packages\\nltk\\tag\\hmm.py:332: RuntimeWarning: overflow encountered in cast\n",
      "  P[i] = self._priors.logprob(si)\n",
      "c:\\MUIARFID\\LC\\Treball_LC\\.venv\\Lib\\site-packages\\nltk\\tag\\hmm.py:364: RuntimeWarning: overflow encountered in cast\n",
      "  O[i, k] = self._output_logprob(si, self._symbols[k])\n"
     ]
    },
    {
     "name": "stdout",
     "output_type": "stream",
     "text": [
      "Accuracy for partition 0: 0.36914932648461657\n",
      "Accuracy for partition 1: 0.3044818475388981\n",
      "Accuracy for partition 2: 0.30947035411776713\n",
      "Accuracy for partition 3: 0.30261666838364065\n",
      "Accuracy for partition 4: 0.31778274196062134\n",
      "Accuracy for partition 5: 0.3027697665560211\n",
      "Accuracy for partition 6: 0.3232081556225944\n",
      "Accuracy for partition 7: 0.31261643552059615\n",
      "Accuracy for partition 8: 0.3192440039032407\n",
      "Accuracy for partition 9: 0.3204754186925986\n",
      "Mean accuracy:  0.31818147187805945\n",
      "Confidence interval:  (0.3042695494928558, 0.3320933942632631)\n"
     ]
    }
   ],
   "source": [
    "reduced_categories_accuracies = cross_validate_hmm(reduced_cess_sents, 10)"
   ]
  },
  {
   "cell_type": "markdown",
   "metadata": {},
   "source": [
    "Mostrar resultados"
   ]
  },
  {
   "cell_type": "code",
   "execution_count": 18,
   "metadata": {},
   "outputs": [
    {
     "data": {
      "text/html": [
       "<div>\n",
       "<style scoped>\n",
       "    .dataframe tbody tr th:only-of-type {\n",
       "        vertical-align: middle;\n",
       "    }\n",
       "\n",
       "    .dataframe tbody tr th {\n",
       "        vertical-align: top;\n",
       "    }\n",
       "\n",
       "    .dataframe thead th {\n",
       "        text-align: right;\n",
       "    }\n",
       "</style>\n",
       "<table border=\"1\" class=\"dataframe\">\n",
       "  <thead>\n",
       "    <tr style=\"text-align: right;\">\n",
       "      <th></th>\n",
       "      <th>Accuracy por fold</th>\n",
       "      <th>Accuracy</th>\n",
       "    </tr>\n",
       "  </thead>\n",
       "  <tbody>\n",
       "    <tr>\n",
       "      <th>0</th>\n",
       "      <td>Fold 0</td>\n",
       "      <td>0.369149</td>\n",
       "    </tr>\n",
       "    <tr>\n",
       "      <th>1</th>\n",
       "      <td>Fold 1</td>\n",
       "      <td>0.304482</td>\n",
       "    </tr>\n",
       "    <tr>\n",
       "      <th>2</th>\n",
       "      <td>Fold 2</td>\n",
       "      <td>0.30947</td>\n",
       "    </tr>\n",
       "    <tr>\n",
       "      <th>3</th>\n",
       "      <td>Fold 3</td>\n",
       "      <td>0.302617</td>\n",
       "    </tr>\n",
       "    <tr>\n",
       "      <th>4</th>\n",
       "      <td>Fold 4</td>\n",
       "      <td>0.317783</td>\n",
       "    </tr>\n",
       "    <tr>\n",
       "      <th>5</th>\n",
       "      <td>Fold 5</td>\n",
       "      <td>0.30277</td>\n",
       "    </tr>\n",
       "    <tr>\n",
       "      <th>6</th>\n",
       "      <td>Fold 6</td>\n",
       "      <td>0.323208</td>\n",
       "    </tr>\n",
       "    <tr>\n",
       "      <th>7</th>\n",
       "      <td>Fold 7</td>\n",
       "      <td>0.312616</td>\n",
       "    </tr>\n",
       "    <tr>\n",
       "      <th>8</th>\n",
       "      <td>Fold 8</td>\n",
       "      <td>0.319244</td>\n",
       "    </tr>\n",
       "    <tr>\n",
       "      <th>9</th>\n",
       "      <td>Fold 9</td>\n",
       "      <td>0.320475</td>\n",
       "    </tr>\n",
       "    <tr>\n",
       "      <th>10</th>\n",
       "      <td>Media</td>\n",
       "      <td>0.318181</td>\n",
       "    </tr>\n",
       "    <tr>\n",
       "      <th>11</th>\n",
       "      <td>Intervalo de Confianza</td>\n",
       "      <td>0.3043 - 0.3321</td>\n",
       "    </tr>\n",
       "  </tbody>\n",
       "</table>\n",
       "</div>"
      ],
      "text/plain": [
       "         Accuracy por fold         Accuracy\n",
       "0                   Fold 0         0.369149\n",
       "1                   Fold 1         0.304482\n",
       "2                   Fold 2          0.30947\n",
       "3                   Fold 3         0.302617\n",
       "4                   Fold 4         0.317783\n",
       "5                   Fold 5          0.30277\n",
       "6                   Fold 6         0.323208\n",
       "7                   Fold 7         0.312616\n",
       "8                   Fold 8         0.319244\n",
       "9                   Fold 9         0.320475\n",
       "10                   Media         0.318181\n",
       "11  Intervalo de Confianza  0.3043 - 0.3321"
      ]
     },
     "metadata": {},
     "output_type": "display_data"
    },
    {
     "data": {
      "image/png": "[encoded data removed]",
      "text/plain": [
       "<Figure size 1000x500 with 1 Axes>"
      ]
     },
     "metadata": {},
     "output_type": "display_data"
    }
   ],
   "source": [
    "show_accuracy_table(reduced_categories_accuracies, \"Accuracy por fold\", [\"Fold \" + str(i) for i in range(10)])\n",
    "show_accuracy_graph(reduced_categories_accuracies, \"Accuracy por fold\", list(range(10)), \"Fold iteration\")"
   ]
  },
  {
   "cell_type": "markdown",
   "metadata": {},
   "source": [
    "## Ejercicio 2\n",
    "\n",
    "Evaluación de las prestaciones del etiquetador respecto a la cantidad de datos de \n",
    "aprendizaje.\n",
    "\n",
    "Se trata de estudiar cómo varían las prestaciones del etiquetador hmm cuando varía el tamaño del\n",
    "corpus de aprendizaje. Para este experimento se dividirá el corpus de entrenamiento en 10 partes\n",
    "de tamaño similar. La partición 10 se tomará como test, y las 9 particiones restantes se tomarán\n",
    "como entrenamiento. En cada ejecución, se irá incrementando sucesivamente el tamaño del corpus\n",
    "de entrenamiento, manteniendo fija la partición de test.\n",
    "Importante: Para esta tarea no es necesario realizar la validación cruzada. "
   ]
  },
  {
   "cell_type": "code",
   "execution_count": 10,
   "metadata": {},
   "outputs": [],
   "source": [
    "def accumulated_validation(sentences, num_partitions):\n",
    "    partition_size = len(sentences) // num_partitions\n",
    "    partitions = [sentences[i * partition_size: (i + 1) * partition_size] for i in range(num_partitions)]\n",
    "\n",
    "    train_data = []\n",
    "    test_data = partitions[-1]\n",
    "\n",
    "    accuracies = []\n",
    "    for i in range(num_partitions-1):\n",
    "        train_data += partitions[i]\n",
    "\n",
    "        trainer = hmm.HiddenMarkovModelTrainer()\n",
    "        hmm_tagger = trainer.train(train_data)\n",
    "        acc = hmm_tagger.accuracy(test_data)\n",
    "        accuracies.append(acc)\n",
    "        print(f\"Accuracy for partition {i}: {acc}\")\n",
    "\n",
    "    mean_acc = np.mean(accuracies)\n",
    "    conf_int = t.interval(0.95, len(accuracies) - 1, loc=mean_acc, scale=stats.sem(accuracies))\n",
    "    print(\"Mean accuracy: \", mean_acc)\n",
    "    print(\"Confidence interval: \", conf_int)\n",
    "\n",
    "    return accuracies"
   ]
  },
  {
   "cell_type": "markdown",
   "metadata": {},
   "source": [
    "Realizar experimentos"
   ]
  },
  {
   "cell_type": "code",
   "execution_count": 11,
   "metadata": {},
   "outputs": [
    {
     "name": "stderr",
     "output_type": "stream",
     "text": [
      "c:\\MUIARFID\\LC\\Treball_LC\\.venv\\Lib\\site-packages\\nltk\\tag\\hmm.py:334: RuntimeWarning: overflow encountered in cast\n",
      "  X[i, j] = self._transitions[si].logprob(self._states[j])\n",
      "c:\\MUIARFID\\LC\\Treball_LC\\.venv\\Lib\\site-packages\\nltk\\tag\\hmm.py:336: RuntimeWarning: overflow encountered in cast\n",
      "  O[i, k] = self._output_logprob(si, self._symbols[k])\n",
      "c:\\MUIARFID\\LC\\Treball_LC\\.venv\\Lib\\site-packages\\nltk\\tag\\hmm.py:332: RuntimeWarning: overflow encountered in cast\n",
      "  P[i] = self._priors.logprob(si)\n",
      "c:\\MUIARFID\\LC\\Treball_LC\\.venv\\Lib\\site-packages\\nltk\\tag\\hmm.py:364: RuntimeWarning: overflow encountered in cast\n",
      "  O[i, k] = self._output_logprob(si, self._symbols[k])\n"
     ]
    },
    {
     "name": "stdout",
     "output_type": "stream",
     "text": [
      "Accuracy for partition 0: 0.044408427876823336\n",
      "Accuracy for partition 1: 0.09324689357104268\n",
      "Accuracy for partition 2: 0.13144246353322528\n",
      "Accuracy for partition 3: 0.16639654240950838\n",
      "Accuracy for partition 4: 0.1930848190167477\n",
      "Accuracy for partition 5: 0.21858454889249054\n",
      "Accuracy for partition 6: 0.2439222042139384\n",
      "Accuracy for partition 7: 0.26704484062668826\n",
      "Accuracy for partition 8: 0.2863317125877904\n",
      "Mean accuracy:  0.18271805030313945\n",
      "Confidence interval:  (0.1201430657302017, 0.2452930348760772)\n"
     ]
    }
   ],
   "source": [
    "accumulated_categories_accuracies = accumulated_validation(cess_sents, 10)"
   ]
  },
  {
   "cell_type": "markdown",
   "metadata": {},
   "source": [
    "Mostrar resultados"
   ]
  },
  {
   "cell_type": "code",
   "execution_count": 14,
   "metadata": {},
   "outputs": [
    {
     "data": {
      "text/html": [
       "<div>\n",
       "<style scoped>\n",
       "    .dataframe tbody tr th:only-of-type {\n",
       "        vertical-align: middle;\n",
       "    }\n",
       "\n",
       "    .dataframe tbody tr th {\n",
       "        vertical-align: top;\n",
       "    }\n",
       "\n",
       "    .dataframe thead th {\n",
       "        text-align: right;\n",
       "    }\n",
       "</style>\n",
       "<table border=\"1\" class=\"dataframe\">\n",
       "  <thead>\n",
       "    <tr style=\"text-align: right;\">\n",
       "      <th></th>\n",
       "      <th>Accuracy por number of partitions</th>\n",
       "      <th>Accuracy</th>\n",
       "    </tr>\n",
       "  </thead>\n",
       "  <tbody>\n",
       "    <tr>\n",
       "      <th>0</th>\n",
       "      <td>Number of partitions 1</td>\n",
       "      <td>0.044408</td>\n",
       "    </tr>\n",
       "    <tr>\n",
       "      <th>1</th>\n",
       "      <td>Number of partitions 2</td>\n",
       "      <td>0.093247</td>\n",
       "    </tr>\n",
       "    <tr>\n",
       "      <th>2</th>\n",
       "      <td>Number of partitions 3</td>\n",
       "      <td>0.131442</td>\n",
       "    </tr>\n",
       "    <tr>\n",
       "      <th>3</th>\n",
       "      <td>Number of partitions 4</td>\n",
       "      <td>0.166397</td>\n",
       "    </tr>\n",
       "    <tr>\n",
       "      <th>4</th>\n",
       "      <td>Number of partitions 5</td>\n",
       "      <td>0.193085</td>\n",
       "    </tr>\n",
       "    <tr>\n",
       "      <th>5</th>\n",
       "      <td>Number of partitions 6</td>\n",
       "      <td>0.218585</td>\n",
       "    </tr>\n",
       "    <tr>\n",
       "      <th>6</th>\n",
       "      <td>Number of partitions 7</td>\n",
       "      <td>0.243922</td>\n",
       "    </tr>\n",
       "    <tr>\n",
       "      <th>7</th>\n",
       "      <td>Number of partitions 8</td>\n",
       "      <td>0.267045</td>\n",
       "    </tr>\n",
       "    <tr>\n",
       "      <th>8</th>\n",
       "      <td>Number of partitions 9</td>\n",
       "      <td>0.286332</td>\n",
       "    </tr>\n",
       "    <tr>\n",
       "      <th>9</th>\n",
       "      <td>Media</td>\n",
       "      <td>0.182718</td>\n",
       "    </tr>\n",
       "    <tr>\n",
       "      <th>10</th>\n",
       "      <td>Intervalo de Confianza</td>\n",
       "      <td>0.1201 - 0.2453</td>\n",
       "    </tr>\n",
       "  </tbody>\n",
       "</table>\n",
       "</div>"
      ],
      "text/plain": [
       "   Accuracy por number of partitions         Accuracy\n",
       "0             Number of partitions 1         0.044408\n",
       "1             Number of partitions 2         0.093247\n",
       "2             Number of partitions 3         0.131442\n",
       "3             Number of partitions 4         0.166397\n",
       "4             Number of partitions 5         0.193085\n",
       "5             Number of partitions 6         0.218585\n",
       "6             Number of partitions 7         0.243922\n",
       "7             Number of partitions 8         0.267045\n",
       "8             Number of partitions 9         0.286332\n",
       "9                              Media         0.182718\n",
       "10            Intervalo de Confianza  0.1201 - 0.2453"
      ]
     },
     "metadata": {},
     "output_type": "display_data"
    },
    {
     "data": {
      "image/png": "[encoded data removed]",
      "text/plain": [
       "<Figure size 1000x500 with 1 Axes>"
      ]
     },
     "metadata": {},
     "output_type": "display_data"
    }
   ],
   "source": [
    "show_accuracy_table(accumulated_categories_accuracies, \"Accuracy por number of partitions\", [\"Number of partitions \" + str(i) for i in range(1, 10)])\n",
    "show_accuracy_graph(accumulated_categories_accuracies, \"Accuracy por number of partitions\", list(range(1, 10)), \"Number of partitions\")"
   ]
  },
  {
   "cell_type": "markdown",
   "metadata": {},
   "source": [
    "## Ejercicio 3\n",
    "\n",
    "Evaluación del método de suavizado para palabras desconocidas para el etiquetador tnt.\n",
    "\n",
    "El etiquetador tnt por defecto no incorpora un método de suavizado para las palabras desconocidas. \n",
    "Utiliza un método basado en los sufijos de las palabras para construir un modelo para las palabras \n",
    "desconocidas (Affix Tagger). En base al sufijo de la palabra desconocida le asigna una categoría \n",
    "morfosintáctica. Este método funciona razonablemente bien para el inglés.\n",
    "\n",
    "En concreto, se trata de estudiar diferentes longitudes del sufijo (número de letras que se tienen en \n",
    "cuenta) y estudiar cómo varían las prestaciones del etiquetador. Una vez se haya decidido el sufijo \n",
    "que mejores prestaciones proporciona, incorporarlo como modelo de suavizado al etiquetador tnt y \n",
    "comprobar si aumenta sus prestaciones."
   ]
  },
  {
   "cell_type": "code",
   "execution_count": 22,
   "metadata": {},
   "outputs": [],
   "source": [
    "def cross_validate_tnt(sentences, num_partitions, affix_length=None):\n",
    "    partition_size = len(sentences) // num_partitions\n",
    "    partitions = [sentences[i * partition_size: (i + 1) * partition_size] for i in range(num_partitions)]\n",
    "\n",
    "    accuracies = []\n",
    "    for i in range(num_partitions):\n",
    "        test_data = partitions[i]\n",
    "        train_data = [sentence for part_idx, partitions in enumerate(partitions) if part_idx != i for sentence in partitions]\n",
    "\n",
    "        if affix_length is not None:\n",
    "            affix_tagger = AffixTagger(train_data, affix_length=affix_length)\n",
    "            tnt_tagger = tnt.TnT(unk=affix_tagger, Trained=True)\n",
    "        else:\n",
    "            tnt_tagger = tnt.TnT()\n",
    "\n",
    "        tnt_tagger.train(train_data)\n",
    "        accuracy = tnt_tagger.accuracy(test_data)\n",
    "        accuracies.append(accuracy)\n",
    "        print(f\"Accuracy for {affix_length} affix length: {accuracy} for partition {i}\")\n",
    "\n",
    "    mean_acc = np.mean(accuracies)\n",
    "    conf_int = t.interval(0.95, len(accuracies) - 1, loc=mean_acc, scale=stats.sem(accuracies))\n",
    "\n",
    "    print(f\"Mean accuracy for {affix_length} affix length: \", mean_acc)\n",
    "    print(f\"Confidence interval for {affix_length} affix length: \", conf_int)\n",
    "    print(\"\")\n",
    "\n",
    "    return accuracies"
   ]
  },
  {
   "cell_type": "markdown",
   "metadata": {},
   "source": [
    "Evaluar diferentes longitudes de sufijo"
   ]
  },
  {
   "cell_type": "code",
   "execution_count": 23,
   "metadata": {},
   "outputs": [
    {
     "name": "stdout",
     "output_type": "stream",
     "text": [
      "Accuracy for 1 affix length: 0.9048922870279485 for partition 0\n",
      "Accuracy for 1 affix length: 0.9113619734504024 for partition 1\n",
      "Accuracy for 1 affix length: 0.9055953189488533 for partition 2\n",
      "Accuracy for 1 affix length: 0.9085352777182072 for partition 3\n",
      "Accuracy for 1 affix length: 0.9089977454396393 for partition 4\n",
      "Accuracy for 1 affix length: 0.9075246497145822 for partition 5\n",
      "Accuracy for 1 affix length: 0.9114262642575957 for partition 6\n",
      "Accuracy for 1 affix length: 0.9059117402164862 for partition 7\n",
      "Accuracy for 1 affix length: 0.9071622185154296 for partition 8\n",
      "Accuracy for 1 affix length: 0.907535305638594 for partition 9\n",
      "Mean accuracy for 1 affix length:  0.9078942780927738\n",
      "Confidence interval for 1 affix length:  (0.9062918967987458, 0.9094966593868018)\n",
      "\n",
      "Accuracy for 2 affix length: 0.9075786537170016 for partition 0\n",
      "Accuracy for 2 affix length: 0.9125117591721543 for partition 1\n",
      "Accuracy for 2 affix length: 0.9089389269108197 for partition 2\n",
      "Accuracy for 2 affix length: 0.9098756165558654 for partition 3\n",
      "Accuracy for 2 affix length: 0.9091514654642344 for partition 4\n",
      "Accuracy for 2 affix length: 0.9090295796574988 for partition 5\n",
      "Accuracy for 2 affix length: 0.9131422226708388 for partition 6\n",
      "Accuracy for 2 affix length: 0.9076810990840966 for partition 7\n",
      "Accuracy for 2 affix length: 0.9086217681401167 for partition 8\n",
      "Accuracy for 2 affix length: 0.9083084218121843 for partition 9\n",
      "Mean accuracy for 2 affix length:  0.909483951318481\n",
      "Confidence interval for 2 affix length:  (0.9081282563870261, 0.910839646249936)\n",
      "\n",
      "Accuracy for 3 affix length: 0.9065454357596735 for partition 0\n",
      "Accuracy for 3 affix length: 0.9138705968433156 for partition 1\n",
      "Accuracy for 3 affix length: 0.9095136095292827 for partition 2\n",
      "Accuracy for 3 affix length: 0.9097683894488526 for partition 3\n",
      "Accuracy for 3 affix length: 0.9095101455216232 for partition 4\n",
      "Accuracy for 3 affix length: 0.9067462376751427 for partition 5\n",
      "Accuracy for 3 affix length: 0.9121328353689311 for partition 6\n",
      "Accuracy for 3 affix length: 0.9076290591174022 for partition 7\n",
      "Accuracy for 3 affix length: 0.9071100917431193 for partition 8\n",
      "Accuracy for 3 affix length: 0.9079476342645089 for partition 9\n",
      "Mean accuracy for 3 affix length:  0.9090774035271852\n",
      "Confidence interval for 3 affix length:  (0.9073536892560309, 0.9108011177983396)\n",
      "\n",
      "Accuracy for 4 affix length: 0.9034457818876892 for partition 0\n",
      "Accuracy for 4 affix length: 0.9115710253998118 for partition 1\n",
      "Accuracy for 4 affix length: 0.9058565383208819 for partition 2\n",
      "Accuracy for 4 affix length: 0.9072485524340553 for partition 3\n",
      "Accuracy for 4 affix length: 0.9067944250871081 for partition 4\n",
      "Accuracy for 4 affix length: 0.9044628956927867 for partition 5\n",
      "Accuracy for 4 affix length: 0.9097607752094479 for partition 6\n",
      "Accuracy for 4 affix length: 0.9057035803497085 for partition 7\n",
      "Accuracy for 4 affix length: 0.9045558798999166 for partition 8\n",
      "Accuracy for 4 affix length: 0.9059375322131739 for partition 9\n",
      "Mean accuracy for 4 affix length:  0.9065336986494581\n",
      "Confidence interval for 4 affix length:  (0.9047555740975333, 0.9083118232013829)\n",
      "\n",
      "Accuracy for 5 affix length: 0.9013276850751666 for partition 0\n",
      "Accuracy for 5 affix length: 0.9099508727918888 for partition 1\n",
      "Accuracy for 5 affix length: 0.9034010762238127 for partition 2\n",
      "Accuracy for 5 affix length: 0.9055865322753592 for partition 3\n",
      "Accuracy for 5 affix length: 0.9048473047755687 for partition 4\n",
      "Accuracy for 5 affix length: 0.9023352361183187 for partition 5\n",
      "Accuracy for 5 affix length: 0.9077924699707278 for partition 6\n",
      "Accuracy for 5 affix length: 0.9031536219816819 for partition 7\n",
      "Accuracy for 5 affix length: 0.9031484570475397 for partition 8\n",
      "Accuracy for 5 affix length: 0.9034120193794454 for partition 9\n",
      "Mean accuracy for 5 affix length:  0.9044955275639509\n",
      "Confidence interval for 5 affix length:  (0.9026083788092581, 0.9063826763186437)\n",
      "\n",
      "Accuracy for 6 affix length: 0.8994162318541096 for partition 0\n",
      "Accuracy for 6 affix length: 0.9072331974495662 for partition 1\n",
      "Accuracy for 6 affix length: 0.9016247844940181 for partition 2\n",
      "Accuracy for 6 affix length: 0.9043534205447137 for partition 3\n",
      "Accuracy for 6 affix length: 0.9039249846279975 for partition 4\n",
      "Accuracy for 6 affix length: 0.9002594706798132 for partition 5\n",
      "Accuracy for 6 affix length: 0.9058241647320077 for partition 6\n",
      "Accuracy for 6 affix length: 0.9010720233139051 for partition 7\n",
      "Accuracy for 6 affix length: 0.9021059216013344 for partition 8\n",
      "Accuracy for 6 affix length: 0.9018142459540254 for partition 9\n",
      "Mean accuracy for 6 affix length:  0.9027628445251491\n",
      "Confidence interval for 6 affix length:  (0.9009754321014017, 0.9045502569488965)\n",
      "\n",
      "Accuracy for 7 affix length: 0.8968331869607894 for partition 0\n",
      "Accuracy for 7 affix length: 0.9047245740566531 for partition 1\n",
      "Accuracy for 7 affix length: 0.9003709315082806 for partition 2\n",
      "Accuracy for 7 affix length: 0.9017263564229037 for partition 3\n",
      "Accuracy for 7 affix length: 0.9011067841770855 for partition 4\n",
      "Accuracy for 7 affix length: 0.8984431759211209 for partition 5\n",
      "Accuracy for 7 affix length: 0.903653982032906 for partition 6\n",
      "Accuracy for 7 affix length: 0.8986261448792673 for partition 7\n",
      "Accuracy for 7 affix length: 0.8998123436196831 for partition 8\n",
      "Accuracy for 7 affix length: 0.9004741779198021 for partition 9\n",
      "Mean accuracy for 7 affix length:  0.9005771657498493\n",
      "Confidence interval for 7 affix length:  (0.8988695276993578, 0.9022848038003407)\n",
      "\n",
      "Accuracy for 8 affix length: 0.8958516299013277 for partition 0\n",
      "Accuracy for 8 affix length: 0.9026340545625587 for partition 1\n",
      "Accuracy for 8 affix length: 0.8990648346481375 for partition 2\n",
      "Accuracy for 8 affix length: 0.9003860175852455 for partition 3\n",
      "Accuracy for 8 affix length: 0.8995695839311334 for partition 4\n",
      "Accuracy for 8 affix length: 0.8974571873378309 for partition 5\n",
      "Accuracy for 8 affix length: 0.902341778540426 for partition 6\n",
      "Accuracy for 8 affix length: 0.8972731057452124 for partition 7\n",
      "Accuracy for 8 affix length: 0.8990825688073395 for partition 8\n",
      "Accuracy for 8 affix length: 0.8989279455726213 for partition 9\n",
      "Mean accuracy for 8 affix length:  0.8992588706631833\n",
      "Confidence interval for 8 affix length:  (0.897727567765982, 0.9007901735603847)\n",
      "\n",
      "Accuracy for 9 affix length: 0.8946634292504003 for partition 0\n",
      "Accuracy for 9 affix length: 0.9013797428661022 for partition 1\n",
      "Accuracy for 9 affix length: 0.8979677132856173 for partition 2\n",
      "Accuracy for 9 affix length: 0.8995818142826506 for partition 3\n",
      "Accuracy for 9 affix length: 0.8985960237753639 for partition 4\n",
      "Accuracy for 9 affix length: 0.8964193046185781 for partition 5\n",
      "Accuracy for 9 affix length: 0.901433329968709 for partition 6\n",
      "Accuracy for 9 affix length: 0.8961802664446294 for partition 7\n",
      "Accuracy for 9 affix length: 0.8979357798165137 for partition 8\n",
      "Accuracy for 9 affix length: 0.898000206164313 for partition 9\n",
      "Mean accuracy for 9 affix length:  0.8982157610472878\n",
      "Confidence interval for 9 affix length:  (0.8966603249990405, 0.8997711970955352)\n",
      "\n"
     ]
    }
   ],
   "source": [
    "suffix_lengths = range(1, 10)\n",
    "\n",
    "suffix_accuracies = []\n",
    "for suffix_length in suffix_lengths:\n",
    "    suffix_accuracies.append(cross_validate_tnt(cess_sents, 10, suffix_length))"
   ]
  },
  {
   "cell_type": "markdown",
   "metadata": {},
   "source": [
    "Etiquetador TNT con el mejor sufijo encontrado"
   ]
  },
  {
   "cell_type": "code",
   "execution_count": 25,
   "metadata": {},
   "outputs": [
    {
     "name": "stdout",
     "output_type": "stream",
     "text": [
      "Best suffix length: 1\n"
     ]
    },
    {
     "data": {
      "text/html": [
       "<div>\n",
       "<style scoped>\n",
       "    .dataframe tbody tr th:only-of-type {\n",
       "        vertical-align: middle;\n",
       "    }\n",
       "\n",
       "    .dataframe tbody tr th {\n",
       "        vertical-align: top;\n",
       "    }\n",
       "\n",
       "    .dataframe thead th {\n",
       "        text-align: right;\n",
       "    }\n",
       "</style>\n",
       "<table border=\"1\" class=\"dataframe\">\n",
       "  <thead>\n",
       "    <tr style=\"text-align: right;\">\n",
       "      <th></th>\n",
       "      <th>Accuracy por fold</th>\n",
       "      <th>Accuracy</th>\n",
       "    </tr>\n",
       "  </thead>\n",
       "  <tbody>\n",
       "    <tr>\n",
       "      <th>0</th>\n",
       "      <td>Fold 0</td>\n",
       "      <td>0.907579</td>\n",
       "    </tr>\n",
       "    <tr>\n",
       "      <th>1</th>\n",
       "      <td>Fold 1</td>\n",
       "      <td>0.912512</td>\n",
       "    </tr>\n",
       "    <tr>\n",
       "      <th>2</th>\n",
       "      <td>Fold 2</td>\n",
       "      <td>0.908939</td>\n",
       "    </tr>\n",
       "    <tr>\n",
       "      <th>3</th>\n",
       "      <td>Fold 3</td>\n",
       "      <td>0.909876</td>\n",
       "    </tr>\n",
       "    <tr>\n",
       "      <th>4</th>\n",
       "      <td>Fold 4</td>\n",
       "      <td>0.909151</td>\n",
       "    </tr>\n",
       "    <tr>\n",
       "      <th>5</th>\n",
       "      <td>Fold 5</td>\n",
       "      <td>0.90903</td>\n",
       "    </tr>\n",
       "    <tr>\n",
       "      <th>6</th>\n",
       "      <td>Fold 6</td>\n",
       "      <td>0.913142</td>\n",
       "    </tr>\n",
       "    <tr>\n",
       "      <th>7</th>\n",
       "      <td>Fold 7</td>\n",
       "      <td>0.907681</td>\n",
       "    </tr>\n",
       "    <tr>\n",
       "      <th>8</th>\n",
       "      <td>Fold 8</td>\n",
       "      <td>0.908622</td>\n",
       "    </tr>\n",
       "    <tr>\n",
       "      <th>9</th>\n",
       "      <td>Fold 9</td>\n",
       "      <td>0.908308</td>\n",
       "    </tr>\n",
       "    <tr>\n",
       "      <th>10</th>\n",
       "      <td>Media</td>\n",
       "      <td>0.909484</td>\n",
       "    </tr>\n",
       "    <tr>\n",
       "      <th>11</th>\n",
       "      <td>Intervalo de Confianza</td>\n",
       "      <td>0.9081 - 0.9108</td>\n",
       "    </tr>\n",
       "  </tbody>\n",
       "</table>\n",
       "</div>"
      ],
      "text/plain": [
       "         Accuracy por fold         Accuracy\n",
       "0                   Fold 0         0.907579\n",
       "1                   Fold 1         0.912512\n",
       "2                   Fold 2         0.908939\n",
       "3                   Fold 3         0.909876\n",
       "4                   Fold 4         0.909151\n",
       "5                   Fold 5          0.90903\n",
       "6                   Fold 6         0.913142\n",
       "7                   Fold 7         0.907681\n",
       "8                   Fold 8         0.908622\n",
       "9                   Fold 9         0.908308\n",
       "10                   Media         0.909484\n",
       "11  Intervalo de Confianza  0.9081 - 0.9108"
      ]
     },
     "metadata": {},
     "output_type": "display_data"
    },
    {
     "data": {
      "image/png": "[encoded data removed]",
      "text/plain": [
       "<Figure size 1000x500 with 1 Axes>"
      ]
     },
     "metadata": {},
     "output_type": "display_data"
    }
   ],
   "source": [
    "best_sufix_length = suffix_accuracies.index(max(suffix_accuracies))\n",
    "print(f\"Best suffix length: {best_sufix_length}\")\n",
    "\n",
    "best_accuraces = suffix_accuracies[best_sufix_length]\n",
    "show_accuracy_table(best_accuraces, \"Accuracy por fold\", [\"Fold \" + str(i) for i in range(10)])\n",
    "show_accuracy_graph(best_accuraces, \"Accuracy por fold\", list(range(10)), \"Fold iteration\")"
   ]
  },
  {
   "cell_type": "markdown",
   "metadata": {},
   "source": [
    "## Ejercicio 4\n",
    "\n",
    "Evaluación del resto de etiquetadores.\n",
    "\n",
    "\n",
    "Se deberán utilizar otros paradigmas de etiquetado. Como mínimo el etiquetador de Brill y algún otro \n",
    "como, CRF, perceptron. Se deberá realizar una comparativa de prestaciones respecto a los\n",
    "etiquetadores tnt y hmm, utilizando el juego de categorías reducido. \n",
    "\n",
    "Cuando se utilice el etiquetador de Brill, probar con diferentes etiquetados iniciales, por ejemplo \n",
    "probar con Unigram Tagger y con hmm tagger.\n",
    "\n",
    "La comparación puede ser sólo de una partición, si el coste temporal de la validación cruzada \n",
    "requiere mucho tiempo"
   ]
  },
  {
   "cell_type": "code",
   "execution_count": 26,
   "metadata": {},
   "outputs": [],
   "source": [
    "reduced_tags_train_data, reduced_tags_test_data = train_test_split(reduced_cess_sents, test_size=0.1, random_state=42)\n",
    "templates = brill.fntbl37()"
   ]
  },
  {
   "cell_type": "markdown",
   "metadata": {},
   "source": [
    "### Brill"
   ]
  },
  {
   "cell_type": "markdown",
   "metadata": {},
   "source": [
    "Unigram Tagger"
   ]
  },
  {
   "cell_type": "code",
   "execution_count": 27,
   "metadata": {},
   "outputs": [
    {
     "name": "stdout",
     "output_type": "stream",
     "text": [
      "Precisión del etiquetador de Brill con Unigram: 0.8969\n"
     ]
    }
   ],
   "source": [
    "unigram_tagger = UnigramTagger(reduced_tags_train_data)\n",
    "\n",
    "brill_tagger_unigram = brill_trainer.BrillTaggerTrainer(unigram_tagger, templates, deterministic=True)\n",
    "brill_tagger_unigram = brill_tagger_unigram.train(reduced_tags_train_data)\n",
    "\n",
    "accuracy_brill_unigram = brill_tagger_unigram.accuracy(reduced_tags_test_data)\n",
    "print(\"Precisión del etiquetador de Brill con Unigram: {:.4f}\".format(accuracy_brill_unigram))"
   ]
  },
  {
   "cell_type": "markdown",
   "metadata": {},
   "source": [
    "HNN Tagger"
   ]
  },
  {
   "cell_type": "code",
   "execution_count": 28,
   "metadata": {},
   "outputs": [
    {
     "name": "stdout",
     "output_type": "stream",
     "text": [
      "Precisión del etiquetador de Brill con HMM: 0.9318\n"
     ]
    }
   ],
   "source": [
    "hmm_tagger = hmm.HiddenMarkovModelTagger.train(reduced_tags_train_data)\n",
    "\n",
    "brill_tagger_hmm = brill_trainer.BrillTaggerTrainer(hmm_tagger, templates, deterministic=True)\n",
    "brill_tagger_hmm = brill_tagger_hmm.train(reduced_tags_train_data)\n",
    "\n",
    "accuracy_brill_hmm = brill_tagger_hmm.accuracy(reduced_tags_test_data)\n",
    "print(\"Precisión del etiquetador de Brill con HMM: {:.4f}\".format(accuracy_brill_hmm))"
   ]
  },
  {
   "cell_type": "markdown",
   "metadata": {},
   "source": [
    "### Perceptron"
   ]
  },
  {
   "cell_type": "code",
   "execution_count": 29,
   "metadata": {},
   "outputs": [
    {
     "name": "stdout",
     "output_type": "stream",
     "text": [
      "Precisión del etiquetador Perceptron: 0.9680\n"
     ]
    }
   ],
   "source": [
    "perceptron_tagger = PerceptronTagger(load=False)\n",
    "perceptron_tagger.train(reduced_tags_train_data)\n",
    "\n",
    "accuracy_perceptron = perceptron_tagger.accuracy(reduced_tags_test_data)\n",
    "print(\"Precisión del etiquetador Perceptron: {:.4f}\".format(accuracy_perceptron))"
   ]
  }
 ],
 "metadata": {
  "kernelspec": {
   "display_name": "Python 3",
   "language": "python",
   "name": "python3"
  },
  "language_info": {
   "codemirror_mode": {
    "name": "ipython",
    "version": 3
   },
   "file_extension": ".py",
   "mimetype": "text/x-python",
   "name": "python",
   "nbconvert_exporter": "python",
   "pygments_lexer": "ipython3",
   "version": "3.11.5"
  }
 },
 "nbformat": 4,
 "nbformat_minor": 2
}
